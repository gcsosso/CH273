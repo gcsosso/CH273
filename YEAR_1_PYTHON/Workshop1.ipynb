{
 "cells": [
  {
   "cell_type": "markdown",
   "metadata": {},
   "source": [
    "# CH160: Introduction to Python\n",
    "# Workshop 1 - small beginnings\n",
    "\n",
    "In this session, we are going to familiarise ourselves with Python - a very powerful coding language.\n",
    "\n",
    "# 1 - Introduction\n",
    "\n",
    "### Hey, wait a sec!\n",
    "Quite a few of you might be wondering about why should we care about coding in the first place. After all, you signed up for something like this...\n",
    "\n",
    "<img src=\"./STUFF/wet_chemistry.jpg\" width=\"600\">\n",
    "\n",
    "... so why should you care about this geeky stuff?\n",
    "\n",
    "<img src=\"./STUFF/geek.jpg\" width=\"600\">"
   ]
  },
  {
   "cell_type": "markdown",
   "metadata": {},
   "source": [
    "Well, it turns out that coding is becoming an increasingly crucial skill for a chemist: whether you are interested in drug design...\n",
    "\n",
    "<img src=\"./STUFF/d_design.png\" width=\"600\">\n",
    "\n",
    "...reaction optimisation, or indeed any time you characterise a sample by e.g. your spectroscopy of choice... you will be dealing with data, and data means coding.\n",
    "\n",
    "<img src=\"./STUFF/data_coding.jpg\" width=\"600\">\n",
    "\n",
    "Gone are the days where being an excellent synthetic chemist will open you the doors toward a top job in, say, a pharmaceutical industry. These days, being able to code is just as essential as mixing your favourite reagents - so let's try to give it a go, then!\n",
    "\n",
    "To this end, we will use some computational tools, most notably..."
   ]
  },
  {
   "cell_type": "markdown",
   "metadata": {},
   "source": [
    "# 2 - Jupyter notebooks\n",
    "\n",
    "<img src=\"./STUFF/jn_logo.png\" width=\"300\">\n",
    "\n",
    "**This** is actually a Jupyter notebook! It allows you to:\n",
    "\n",
    "- Write down some text\n",
    "- Write computer programs using a number of languages: we are going to use Python\n",
    "- Visualize the outcome of your calculations\n",
    "- Take advantage of powerful computational tools\n",
    "\n",
    "All of this in one place! First things first..."
   ]
  },
  {
   "cell_type": "markdown",
   "metadata": {},
   "source": [
    "<div class=\"alert alert-block alert-info\">\n",
    "    \n",
    "These blue boxes contain instructions for you to follow, or stuff for you to do\n",
    "<h2>How to access this Jupyter notebook</h2>\n",
    "\n",
    "* <b>Step 1</b>: Open a web browser,  and go to [this page](https://mnf144.csc.warwick.ac.uk:8987/module/CH274), \n",
    "* <b>Step 2</b>: Enter your SCRTP username and password and press the \"Start Server\" button.<br>\n",
    "* <b>Step 3</b>: Wait (it could take a few minutes) until the blue blox says \"Jupyter notebook server running!\". At that point, click on the weblink below said message.<br>\n",
    "* <b>Step 4</b>: Select the Jupyter Notebook you want to work on. Remember to make a copy of the orginal notebook (which is read only). To do so, in the toolbar on top of the notebook, select File and then Make a Copy <br>\n",
    "* <b>Step 5</b>: You're all set! <br>\n",
    "* <b>Step 6</b>: <font color=\"red\">When you are done, remember to click the \"Stop Server\" button in the launcher web browser tab.</font> Please do, it's really quite important. <br>\n",
    "<b> Remember: </b> You can access your copy of the Notebook at any time from any device off and on campus by going through the same steps on e.g. your laptop - all the changes you have made will be saved and synced! <br>\n",
    "\n",
    "<div/>"
   ]
  },
  {
   "cell_type": "markdown",
   "metadata": {},
   "source": [
    "### Right... but what <i> is </i>  a Jupyter notebook exactly?\n",
    "A Jupyter notebook is a collection of \"cells\" - blocks within which we can e.g. write down text and equations, insert links to web pages, or plot a function. We will use \"Markdown cells\" to write down text and equations, and \"Code cells\" to do everything else. Cells can be inserted (and copied, and pasted, and cut!) via the toolbar above. Once we are happy with the content of a given cell, we have to \"Run\" it - to execute it, by holding the shift key and hitting the enter/return key. The Jupyter notebook will take care of running the cell, and let us know if everything is ok. You can also run a cell, or indeed all the cells in a notebook, *via* the same toolbar above. Let's have a look at Markdown and Code cells, then..."
   ]
  },
  {
   "cell_type": "markdown",
   "metadata": {},
   "source": [
    "## 2.1 - Markdown cells:\n",
    "**This** is a Markdown cell - we use them when we want to display text. To edit the cell, a double click of the mouse should do.\n",
    "We can play around with **bold text**, *italic text*, \n",
    "# Big Headings, \n",
    "## Small Headings, \n",
    "### Tiny Headings,\n",
    "and much more. Importantly, we can also write down equations using LaTeX syntax. This one should hopefully look quite familiar in a couple of years' time...\n",
    "\n",
    "$$\n",
    "A_{\\text{Macroscopic}}=\\langle a_{\\text{Microscopic}} \\rangle_{\\text{NVE}}=\\frac{1}{N}\\sum_{i=1}^{N}a_i\n",
    "$$\n",
    "\n",
    "Remember, LaTeX may look daunting at the beginning, but it is the best documented markup language in the world, and after a little while it becomes natural. In fact, journal articles and books are ultimately *all* typeset in LaTeX!\n"
   ]
  },
  {
   "cell_type": "markdown",
   "metadata": {},
   "source": [
    "<div class=\"alert alert-block alert-info\">\n",
    "    \n",
    "### Task 1:\n",
    "Double click the Markdown cell directly above to see how the various different text styles and LaTeX equation were created. When you are finished, run the cell by holding the shift key while pressing enter"
   ]
  },
  {
   "cell_type": "markdown",
   "metadata": {},
   "source": [
    "<div class=\"alert alert-block alert-info\">\n",
    "\n",
    "### Task 2:\n",
    "Insert a new Markdown cell directly below. Include a big heading and some normal body text. Make some of the body text bold, and some italic. If you are comfortable using LaTeX try to add a mathematical equation (don't just copy the one given above, try to code your own). When you are finshed, run the cell to see what it looks like."
   ]
  },
  {
   "cell_type": "markdown",
   "metadata": {},
   "source": [
    "## 2.2 - Code cells:\n",
    "As the name suggests, Code cells are where we will do all of our actual Python coding. Whenever you see a cell that looks like the one below, it contains some Python code for you to run. Give it a go..."
   ]
  },
  {
   "cell_type": "code",
   "execution_count": 1,
   "metadata": {
    "scrolled": true
   },
   "outputs": [
    {
     "name": "stdout",
     "output_type": "stream",
     "text": [
      "This is a Code cell\n"
     ]
    }
   ],
   "source": [
    "string = \"This is a Code cell\"\n",
    "print(string) "
   ]
  },
  {
   "cell_type": "markdown",
   "metadata": {},
   "source": [
    "### Wait, what happened?\n",
    "In the cell above, we actually used some Python already! We did two things:\n",
    "\n",
    "- 1. We stored the text \"This is a code cell\" as a *variable* we have called **string**\n",
    "- 2. We used the command ``print()`` to write the *variable* **string** on the screen\n",
    "\n",
    "If you are confused as to what variables and strings are, **don't worry**! We will describe them in more detail later in this workshop. "
   ]
  },
  {
   "cell_type": "markdown",
   "metadata": {},
   "source": [
    "<div class=\"alert alert-block alert-info\">\n",
    "    \n",
    "### Task 3:\n",
    "\n",
    "[\"Hello, World!\"](https://en.wikipedia.org/wiki/%22Hello,_World!%22_program) is often the first program written by people learning to code, and who are we to break with tradition?\n",
    "\n",
    "* <b>Step 1</b>: Insert a Markdown cell containing a heading, e.g. \"Hello World\", and some text, e.g. \"In the code cell below we are going to print our first \"Hello World\" message\".<br>\n",
    "* <b>Step 2</b>: Insert a code cell and write a program that prints \"Hello, World!\".<br>"
   ]
  },
  {
   "cell_type": "markdown",
   "metadata": {},
   "source": [
    "### Don't forget to comment your code!\n",
    "You can insert \"comments\" by inserting a \"#\" into Code cells. These comments are ignored by Python, but they let you make notes about your coding as you go along - very useful, you try remembering what a bit of code does 2 years after you oringinally wrote it!"
   ]
  },
  {
   "cell_type": "code",
   "execution_count": 2,
   "metadata": {},
   "outputs": [
    {
     "name": "stdout",
     "output_type": "stream",
     "text": [
      "code without comments\n",
      "is like an arts graduate\n",
      "utterly worthless\n"
     ]
    }
   ],
   "source": [
    "#Comments often used at the beginning of a code block to give a one-line overview of what the code does:\n",
    "\n",
    "#Dan's Haiku about Python comments, because he is an ignorant wretch\n",
    "print(\"code without comments\") #They can also appear at the end of a line to explain code in detail\n",
    "print(\"is like an arts graduate\")\n",
    "#in fact they can appear anywhere - it doesn't matter because Python ignores them all anyway!\n",
    "print(\"utterly worthless\")\n"
   ]
  },
  {
   "cell_type": "markdown",
   "metadata": {},
   "source": [
    "## 2.3 - How to run a Jupyter Notebook\n",
    "\n",
    "As already mentioned, you can run a cell of a Jupyter Notebook by clicking on it and either press Shift+Enter (faster) or pressing the Run button in the toolbar. If you see a * in the [ ] parenthesis on the left of the cell, it means that the Notebook is running the code (be patient). When you see a number in said parenthesis, the cell has finished running the code and you can move to the next one (in many cases the process is so fast you won't be seeing the * at all!)\n",
    "\n",
    "In order to edit the content of a code cell, you just have to click in it (compare this to Markdown cells which require a double click).\n",
    "\n",
    "A Notebook really behaves like a storybook, in that the instructions are intended to be executed in order from the first cell (top) to the last cell (bottom). If you try to run the cells out of order you may get an error message. This is very common in longer notebooks where later cells rely upon the results calculated in earlier cells."
   ]
  },
  {
   "cell_type": "markdown",
   "metadata": {},
   "source": [
    "## 3 - Basics of Python coding\n",
    "\n",
    "We have already seen how to print short messages to the screen, but if that was all we could do with Python it wouldn't be particularly useful! This section will introduce you to various aspects of the Python language which you will use repeatedly over the next few workshops. But before all of that...\n",
    "\n",
    "### P is for Python!\n",
    "What's Python anyway? It's a programming language - one of many, such as C++ or Fortran. It is especially popular these days, mostly because there exists a phenomenal amount of Python libraries (or packages, or modules...) out there that can be harnessed for free. These can in turn be used to do all sort of interesting things, from machine learning for drug design to stock market analysis. This is the reason why a decent knowledge of Python is now often indicated as a desirable (transferable!) skill when interviewing for jobs in Pharma companies and finance alike.\n",
    "<img src=\"./STUFF/python_logo.png\" width=\"300\"> "
   ]
  },
  {
   "cell_type": "markdown",
   "metadata": {},
   "source": [
    "## 3.1 - Python as a calculator\n",
    "\n",
    "### 3.1.1 - Numbers\n",
    "\n",
    "Before we can use Python to do mathematics, we need to understand how it deals with numbers. As far as Python is concerned, there are three *classes* of number:\n",
    "- Integers\n",
    "- Floating point\n",
    "- Complex numbers\n",
    "\n",
    "Crudely speaking, the difference between integers and floating point numbers is that the former are whole numbers (no decimal places), while the latter have decimals included. If we type a number without a decimal place, Python sees it as an integer, conversely if we include a decimal place it is a floating point number. \n",
    "\n",
    "Complex numbers are specified using the notation ```(x+yj)```, where x and y are the real and imaginary parts, respectively, of the complex number, and j is the imaginary unit. **Note:** we need to specify values for both x and y for the complex number to be specified correctly. Thus ```(4+j)``` will not work, instead the correct notation is ```(4+1j)```.\n",
    "\n",
    "If we are not sure if a number is an integer,floating point, or complex, we can use the ```type()``` command to tell us..."
   ]
  },
  {
   "cell_type": "code",
   "execution_count": 3,
   "metadata": {},
   "outputs": [
    {
     "data": {
      "text/plain": [
       "int"
      ]
     },
     "execution_count": 3,
     "metadata": {},
     "output_type": "execute_result"
    }
   ],
   "source": [
    "#Integers, floating point, and complex numbers:\n",
    "\n",
    "#the number 4 (without any decimals specified) should be an integer\n",
    "type(4)"
   ]
  },
  {
   "cell_type": "code",
   "execution_count": 4,
   "metadata": {},
   "outputs": [
    {
     "data": {
      "text/plain": [
       "float"
      ]
     },
     "execution_count": 4,
     "metadata": {},
     "output_type": "execute_result"
    }
   ],
   "source": [
    "#the number 4.0 is floating point\n",
    "type(4.0)"
   ]
  },
  {
   "cell_type": "code",
   "execution_count": 5,
   "metadata": {},
   "outputs": [
    {
     "data": {
      "text/plain": [
       "complex"
      ]
     },
     "execution_count": 5,
     "metadata": {},
     "output_type": "execute_result"
    }
   ],
   "source": [
    "#the number 4+i is a complex number\n",
    "type(4+1j) #We need to explicitly include the '1'"
   ]
  },
  {
   "cell_type": "markdown",
   "metadata": {},
   "source": [
    "### Exponential notation\n",
    "In chemistry we often deal with either very small (*i.e.* Planck's constant, $h=6.626\\times10^{-34}$ J s) or very large numbers (*i.e.* the Avogadro constant, $N_{A}=6.022\\times10^{23}$ mol$^{-1}$) . To specify these we make use exponential notation, where Planck's constant is written ```6.626e-34```, and the Avogadro constant is ```6.022e23```. Numbers written in exponential notation are always floating point."
   ]
  },
  {
   "cell_type": "code",
   "execution_count": 6,
   "metadata": {},
   "outputs": [
    {
     "name": "stdout",
     "output_type": "stream",
     "text": [
      "400000.0\n",
      "<class 'float'>\n"
     ]
    }
   ],
   "source": [
    "# Using exponential notation:\n",
    "\n",
    "print(4e5) #4e5 = 4x10^5 = 400000\n",
    "\n",
    "print(type(4e5)) #note that we can use Python commands within print statements to write the result on screen\n"
   ]
  },
  {
   "cell_type": "markdown",
   "metadata": {},
   "source": [
    "### Converting betweem number classes\n",
    "\n",
    "Sometimes Python commands only work with integers or floating point numbers, and not both. Luckily Python has the built in commands ```int(x)``` and ```float(x)``` to convert the class of the number x. **Note:** ```int(x)``` always rounds a floating point number down."
   ]
  },
  {
   "cell_type": "code",
   "execution_count": 7,
   "metadata": {},
   "outputs": [
    {
     "data": {
      "text/plain": [
       "5.0"
      ]
     },
     "execution_count": 7,
     "metadata": {},
     "output_type": "execute_result"
    }
   ],
   "source": [
    "#Converting between integers and floating point numbers\n",
    "\n",
    "#Turning an integer into a float\n",
    "float(5)"
   ]
  },
  {
   "cell_type": "code",
   "execution_count": 8,
   "metadata": {},
   "outputs": [
    {
     "data": {
      "text/plain": [
       "2"
      ]
     },
     "execution_count": 8,
     "metadata": {},
     "output_type": "execute_result"
    }
   ],
   "source": [
    "#Turning a float into an integer\n",
    "int(2.345)"
   ]
  },
  {
   "cell_type": "code",
   "execution_count": 9,
   "metadata": {},
   "outputs": [
    {
     "data": {
      "text/plain": [
       "4"
      ]
     },
     "execution_count": 9,
     "metadata": {},
     "output_type": "execute_result"
    }
   ],
   "source": [
    "#Floating point numbers are always rounded down when converted to integer class\n",
    "int(4.99)"
   ]
  },
  {
   "cell_type": "markdown",
   "metadata": {},
   "source": [
    "<div class=\"alert alert-block alert-success\">\n",
    "   \n",
    "### Specifying numbers\n",
    "\n",
    "```4``` - Integer\n",
    "\n",
    "```4.0``` - Floating point\n",
    "\n",
    "```(4+1j)``` - Complex\n",
    "\n",
    "```4e5``` - Exponential notation (always treated as floating point)\n",
    "\n",
    "```type(x)``` - Tells us what class the number x belongs to\n",
    "\n",
    "```int(x)```/```float(x)``` - convert number x to integer or float class"
   ]
  },
  {
   "cell_type": "markdown",
   "metadata": {},
   "source": [
    "###  3.1.2 - Simple calculations\n",
    "Python can be used as a simple calculator. Just type in the mathematical expression you want evaluating, and Python will output the result (no need to even use a ``print`` statement - although in the absense of print statments only the result of the last calculation will be displayed). The operators ``+``, ``-``, ``*``, and ``/`` work just like in Excel. To raise a number to a power, we need to use ``**``, **and not** ``^``."
   ]
  },
  {
   "cell_type": "markdown",
   "metadata": {},
   "source": [
    "<div class=\"alert alert-block alert-success\">\n",
    "   \n",
    "### Common mathematical operators\n",
    "```x+y``` - Add\n",
    "\n",
    "```x-y``` - Subtract\n",
    "\n",
    "```x*y``` - Multiply\n",
    "\n",
    "```x/y``` - Divide (result is always floating point)\n",
    "\n",
    "```x**y``` - Raise x to the power of y\n",
    "\n",
    "```abs(x)``` - Absolute value of x\n",
    " \n",
    " plus many others..."
   ]
  },
  {
   "cell_type": "markdown",
   "metadata": {},
   "source": [
    "<div class=\"alert alert-block alert-info\">\n",
    "\n",
    "### Task 4:\n",
    "\n",
    "Create a few code cells, and perform some calculations... "
   ]
  },
  {
   "cell_type": "markdown",
   "metadata": {},
   "source": [
    "### Order of precedence\n",
    "\n",
    "Suppose you want to string a series of mathematical operations together, *e.g.* ```3 + 4 * 5```, what will the answer be? Should Python add 3 + 4 first, then multiply by 5 (giving a result of 35), or should the product 4 * 5 be performed first, followed by the addition of 3 (with the result being 23)?"
   ]
  },
  {
   "cell_type": "code",
   "execution_count": 10,
   "metadata": {},
   "outputs": [
    {
     "data": {
      "text/plain": [
       "23"
      ]
     },
     "execution_count": 10,
     "metadata": {},
     "output_type": "execute_result"
    }
   ],
   "source": [
    "3+4*5"
   ]
  },
  {
   "cell_type": "markdown",
   "metadata": {},
   "source": [
    "Since Python outputs the value 23, it is clear that the multiplication was evaluated before the sum. In general, all operations are assigned a precedence, with those of higher precedence begin evaluated before operations with lower precedence. For the operations listed above, the order of precedence is:\n",
    "<img src=\"./STUFF/precedence.png\" width=\"150\"> \n",
    "\n",
    "Operations with the same precedence (*i.e.* + and -) are evaluated from left to right."
   ]
  },
  {
   "cell_type": "markdown",
   "metadata": {},
   "source": [
    "<div class=\"alert alert-block alert-info\">\n",
    "    \n",
    "### Task 5:\n",
    "Using the order of precedence outlined above, predict what the result of ```4 + 3 ** 2 - 5 * 6``` will be. Create a code cell and check your answer."
   ]
  },
  {
   "cell_type": "code",
   "execution_count": 11,
   "metadata": {},
   "outputs": [
    {
     "data": {
      "text/plain": [
       "-17"
      ]
     },
     "execution_count": 11,
     "metadata": {},
     "output_type": "execute_result"
    }
   ],
   "source": [
    "4+3**2-5*6"
   ]
  },
  {
   "cell_type": "markdown",
   "metadata": {},
   "source": [
    "We can override this order of precedence by using parentheses - *i.e.* the '(' and ')' characters. Expressions within parentheses are always evaluated first, followed by operations that are not contained within parentheses:"
   ]
  },
  {
   "cell_type": "code",
   "execution_count": 12,
   "metadata": {},
   "outputs": [
    {
     "data": {
      "text/plain": [
       "23"
      ]
     },
     "execution_count": 12,
     "metadata": {},
     "output_type": "execute_result"
    }
   ],
   "source": [
    "#Using parentheses to overrule precedence\n",
    "\n",
    "#No parentheses\n",
    "8 + 3 * 5"
   ]
  },
  {
   "cell_type": "code",
   "execution_count": 13,
   "metadata": {},
   "outputs": [
    {
     "data": {
      "text/plain": [
       "55"
      ]
     },
     "execution_count": 13,
     "metadata": {},
     "output_type": "execute_result"
    }
   ],
   "source": [
    "#With parentheses\n",
    "(8+3) * 5"
   ]
  },
  {
   "cell_type": "markdown",
   "metadata": {},
   "source": [
    "### Floating point numbers can be odd...\n",
    "Sometimes when you perform calculations with floating point numbers, the result can be slightly different from what you expect:"
   ]
  },
  {
   "cell_type": "code",
   "execution_count": 14,
   "metadata": {},
   "outputs": [
    {
     "data": {
      "text/plain": [
       "6.300000000000001"
      ]
     },
     "execution_count": 14,
     "metadata": {},
     "output_type": "execute_result"
    }
   ],
   "source": [
    "#Floating point issues\n",
    "2.1+4.2"
   ]
  },
  {
   "cell_type": "markdown",
   "metadata": {},
   "source": [
    "This is not due to an error in Python, but arises because floating point numbers are not exact representations of decimals."
   ]
  },
  {
   "cell_type": "markdown",
   "metadata": {},
   "source": [
    "### 3.1.3 - More complex mathematical operations\n",
    "If we wish to do use more complicated mathematical operators, such as trigonometric functions, we need to go beyond the core Pytfirst need to *import* the ```math``` module:"
   ]
  },
  {
   "cell_type": "code",
   "execution_count": 15,
   "metadata": {},
   "outputs": [
    {
     "data": {
      "text/plain": [
       "9.0"
      ]
     },
     "execution_count": 15,
     "metadata": {},
     "output_type": "execute_result"
    }
   ],
   "source": [
    "# Tell Python we want to load the maths module - only needs to be loaded once per notebook\n",
    "import math\n",
    "\n",
    "#We use the operators in the math module by typing 'math.' followed by the name of the operator.\n",
    "#math.sqrt(x) calculates the square-root of the number x\n",
    "math.sqrt(81) "
   ]
  },
  {
   "cell_type": "markdown",
   "metadata": {},
   "source": [
    "<div class=\"alert alert-block alert-success\">\n",
    "   \n",
    "### Some of the (many) mathematical operators available in the math module:\n",
    "\n",
    "```math.sin(x)``` - Sine of x (x measured in *radians*)\n",
    "\n",
    "```math.cos(x)``` - Cosine\n",
    "\n",
    "```math.tan(x)``` - Tangent\n",
    "\n",
    "```math.sqrt(x)``` - Square root\n",
    "\n",
    "```math.log(x)``` - Natural logarithm\n",
    "\n",
    "```math.log10(x)``` - Logarithm to the base 10\n",
    "\n",
    "```math.exp(x)``` - $e^x$\n",
    "\n",
    "### And some useful constants\n",
    "\n",
    "```math.pi``` - Returns the value of pi, use as you would a number\n",
    "\n",
    "```math.e``` - Euler's number\n"
   ]
  },
  {
   "cell_type": "markdown",
   "metadata": {},
   "source": [
    "<div class=\"alert alert-block alert-info\">\n",
    "\n",
    "### Task 6:\n",
    "\n",
    "From the information above, use Python to calculate the values of: \n",
    "<ol>\n",
    "    <li>$\\sqrt{50}$</li>\n",
    "    <li>$\\ln(e)$</li>\n",
    "    <li>$\\log_{10}(e)$</li>\n",
    "    <li>$\\sin(2\\pi)$</li>\n",
    "    <li>$\\pi^{3}$</li>\n",
    "    <li>$\\cos^{-1}(-1)$ - you may need to look up how to calculate the inverse cosine using the math module </li>\n",
    "</ol>"
   ]
  },
  {
   "cell_type": "markdown",
   "metadata": {},
   "source": [
    "## 3.2 - Strings\n",
    "'Strings' allow us to work with text in our programs. In Python, a string is denoted by using quotation marks. Single and double quotes both work for text contained within a single line. "
   ]
  },
  {
   "cell_type": "code",
   "execution_count": 16,
   "metadata": {},
   "outputs": [
    {
     "name": "stdout",
     "output_type": "stream",
     "text": [
      "Single quotes work\n",
      "As do double quotes\n"
     ]
    }
   ],
   "source": [
    "#Using strings in Python - single line text\n",
    "\n",
    "#Text can be enclosed in single quotes\n",
    "print('Single quotes work')\n",
    "\n",
    "#or double quotes\n",
    "print(\"As do double quotes\")"
   ]
  },
  {
   "cell_type": "markdown",
   "metadata": {},
   "source": [
    "If your text spans several lines, then you need to enclose it in triple quotes which capture all the text, including formatting:"
   ]
  },
  {
   "cell_type": "code",
   "execution_count": 17,
   "metadata": {},
   "outputs": [
    {
     "name": "stdout",
     "output_type": "stream",
     "text": [
      "\n",
      "Triple quotes allow\n",
      "you to include text which\n",
      "spans several lines.\n",
      "\n",
      "This inludes any\n",
      "             formatting\n",
      "    you may choose\n",
      "to include.\n",
      "\n"
     ]
    }
   ],
   "source": [
    "#Using strings in Python - multi-line text\n",
    "\n",
    "#Triple quotes are needed\n",
    "print('''\n",
    "Triple quotes allow\n",
    "you to include text which\n",
    "spans several lines.\n",
    "\n",
    "This inludes any\n",
    "             formatting\n",
    "    you may choose\n",
    "to include.\n",
    "''')\n"
   ]
  },
  {
   "cell_type": "markdown",
   "metadata": {},
   "source": [
    "Triple quotes are also useful if you want to include text which contains both single (') and double (\") quotes within it"
   ]
  },
  {
   "cell_type": "code",
   "execution_count": 18,
   "metadata": {},
   "outputs": [
    {
     "name": "stdout",
     "output_type": "stream",
     "text": [
      "This string contains both single(') and double (\") quotes\n"
     ]
    }
   ],
   "source": [
    "print('''This string contains both single(') and double (\") quotes''')"
   ]
  },
  {
   "cell_type": "markdown",
   "metadata": {},
   "source": [
    "## 3.4 - Variables\n",
    "So far in this workshop we have seen how strings and numbers can be created in Python. These are both examples of *objects*. A *variable* can be thought of as a name we attach to an object. \n",
    "### 3.4.1 - Creating variables\n",
    "Creating a variable in Python is extremely simple, all we need to do is use the ```=``` sign! Python automatically assigns a class (*i.e.* integer, float, string, *etc.*) to the variable."
   ]
  },
  {
   "cell_type": "code",
   "execution_count": 19,
   "metadata": {},
   "outputs": [],
   "source": [
    "#Creating a variables in Python\n",
    "\n",
    "a=5 #We have created a variable called 'a', which has the value 5\n",
    "\n",
    "b=\"Stuff\" #the variable 'b' is a string containing the text \"stuff\""
   ]
  },
  {
   "cell_type": "markdown",
   "metadata": {},
   "source": [
    "Once we have created a variable, we can use it anywhere else in our code, and its value will be substituted automatically."
   ]
  },
  {
   "cell_type": "code",
   "execution_count": 20,
   "metadata": {},
   "outputs": [
    {
     "name": "stdout",
     "output_type": "stream",
     "text": [
      "5 10 25\n",
      "Stuff\n",
      "a= <class 'int'> ; b= <class 'str'>\n"
     ]
    }
   ],
   "source": [
    "#Using variables in code, the values of 'a' and 'b' were defined in the code cell directly above\n",
    "print(a, a*2, a**2) #notice that we can print several things at once if we separate them with commas\n",
    "\n",
    "print(b)\n",
    "\n",
    "print(\"a=\",type(a),\"; b=\",type(b)) #Can you predict what this line of code will output?"
   ]
  },
  {
   "cell_type": "markdown",
   "metadata": {},
   "source": [
    "Attempting to use a variable before you have created it will result in an error - this is another reason why the cells in a Jupyter notebooks should be run in order!"
   ]
  },
  {
   "cell_type": "code",
   "execution_count": 21,
   "metadata": {},
   "outputs": [
    {
     "ename": "NameError",
     "evalue": "name 'z' is not defined",
     "output_type": "error",
     "traceback": [
      "\u001b[0;31m---------------------------------------------------------------------------\u001b[0m",
      "\u001b[0;31mNameError\u001b[0m                                 Traceback (most recent call last)",
      "\u001b[0;32m<ipython-input-21-5b9981f6f216>\u001b[0m in \u001b[0;36m<module>\u001b[0;34m\u001b[0m\n\u001b[1;32m      1\u001b[0m \u001b[0;31m#Using undefined variables - not a smart move\u001b[0m\u001b[0;34m\u001b[0m\u001b[0;34m\u001b[0m\u001b[0;34m\u001b[0m\u001b[0m\n\u001b[1;32m      2\u001b[0m \u001b[0;34m\u001b[0m\u001b[0m\n\u001b[0;32m----> 3\u001b[0;31m \u001b[0mprint\u001b[0m\u001b[0;34m(\u001b[0m\u001b[0mz\u001b[0m\u001b[0;34m)\u001b[0m \u001b[0;31m#This command is attempting to print the value of a non-existant variable\u001b[0m\u001b[0;34m\u001b[0m\u001b[0;34m\u001b[0m\u001b[0m\n\u001b[0m",
      "\u001b[0;31mNameError\u001b[0m: name 'z' is not defined"
     ]
    }
   ],
   "source": [
    "#Using undefined variables - not a smart move\n",
    "\n",
    "print(z) #This command is attempting to print the value of a non-existant variable"
   ]
  },
  {
   "cell_type": "markdown",
   "metadata": {},
   "source": [
    "### 3.4.2 - Changing the value of a variable \n",
    "Once created, Python lets you re-define variables at will, you can even change their class: "
   ]
  },
  {
   "cell_type": "code",
   "execution_count": null,
   "metadata": {},
   "outputs": [],
   "source": [
    "#Changing the value of a variable\n",
    "print(a, type(a)) #The variable 'a' was defined above\n",
    "\n",
    "a=\"Now I am a string\" #Change variable 'a' to a string\n",
    "print(a, type(a))"
   ]
  },
  {
   "cell_type": "markdown",
   "metadata": {},
   "source": [
    "This is handy, but also potentially very dangerous. As a Notebook gets longer, you may forget that you have already defined a variable with the name ```a```, and define a new variable with the same name - potentially breaking your code! As an example, try running the second code cell in this section (3.4.1) again - it no longer works because you are attempting to evaluate the value of a string squared (interestingly, you can multiply a string by 2...) \n",
    "\n",
    "For this reason, you should always aim to give your variables sensible (*i.e.* more descriptive) names - don't be this guy..."
   ]
  },
  {
   "cell_type": "markdown",
   "metadata": {},
   "source": [
    "<img src=\"./STUFF/x_2x.png\" width=\"600\">\n",
    "https://xkcd.com/2309/"
   ]
  },
  {
   "cell_type": "markdown",
   "metadata": {},
   "source": [
    "### 3.4.3 - Allowed variable names\n",
    "\n",
    "As discussed above, variable names should always aim to be descriptive (of course, using 'h' for the Planck Constant would be a sensible choice). There are however a few things to keep in mind when naming variables.\n",
    "\n",
    "### Allowed characters\n",
    "Variable names can be any length, but you are limited to using upper or lower case letters (A-Z, a-z), digits (0-9), and the underscore character (&#95;). \n",
    "\n",
    "**Note:** While variable names can contain numbers, they cannot begin with a number."
   ]
  },
  {
   "cell_type": "code",
   "execution_count": null,
   "metadata": {},
   "outputs": [],
   "source": [
    "#These are all allowed variable names\n",
    "Module_name = \"CH162\"\n",
    "Year_of_study = 1\n",
    "Worth_30CATs = \"True\"\n",
    "\n",
    "print(Module_name,Year_of_study,Worth_30CATs)\n"
   ]
  },
  {
   "cell_type": "code",
   "execution_count": null,
   "metadata": {},
   "outputs": [],
   "source": [
    "#Variable names cannot begin with a digit...\n",
    "30CAT_module = \"True\""
   ]
  },
  {
   "cell_type": "markdown",
   "metadata": {},
   "source": [
    "### Variable names are case-sensitive\n",
    "Upper and lower case letters are not the same. Each of the examples below defines a different variable. "
   ]
  },
  {
   "cell_type": "code",
   "execution_count": null,
   "metadata": {},
   "outputs": [],
   "source": [
    "#UPPER and lower case letters are not the same thing! \n",
    "animal = \"Cat\"\n",
    "Animal = \"Dog\"\n",
    "AniMaL = \"Pig\"\n",
    "AnImAl = \"Camel\"\n",
    "a_n_i_m_a_l = \"Snake\"\n",
    "ANIMAL = \"small-child\"\n",
    "\n",
    "print(animal,Animal,AniMaL,AnImAl,a_n_i_m_a_l,ANIMAL)"
   ]
  },
  {
   "cell_type": "markdown",
   "metadata": {},
   "source": [
    "<div class=\"alert alert-block alert-info\">\n",
    "   \n",
    "### Task 7:\n",
    "Let's calculate the gravitational force $F_g$ that attracts two bodies with masses $M$ and $m$:\n",
    "\n",
    "$$\n",
    "F_g= - \\frac{G \\cdot M \\cdot m}{r^2}\n",
    "$$\n",
    "\n",
    "In the equations above, $G=6.674 \\cdot 10^{-11}$ m$^{3}\\cdot$Kg$^{-1}\\cdot$s$\\cdot^{-2}$ is the *gravitational constant*, while $r$ is the distance between said two bodies (in units of metres).\n",
    "\n",
    "* <b>Step 1</b>: Define three variables:\n",
    "    - \"G\" to be equal to $6.674\\cdot 10^{-11}$\n",
    "    - \"M\" to be equal to $1$\n",
    "    - \"m\" to be equal to $\\frac{1}{2}$<br>\n",
    "* <b>Step 2</b>: Calculate the value of $F_g$ at four different values for $r$:\n",
    "    <ol>\n",
    "    <li> $r=1$ </li>\n",
    "    <li> $r=6$ </li>\n",
    "    <li> $r=14$ </li>\n",
    "    <li> $r=20$ </li>\n",
    "    </ol>\n"
   ]
  },
  {
   "cell_type": "code",
   "execution_count": null,
   "metadata": {},
   "outputs": [],
   "source": []
  }
 ],
 "metadata": {
  "kernelspec": {
   "display_name": "Python 3",
   "language": "python",
   "name": "python3"
  },
  "language_info": {
   "codemirror_mode": {
    "name": "ipython",
    "version": 3
   },
   "file_extension": ".py",
   "mimetype": "text/x-python",
   "name": "python",
   "nbconvert_exporter": "python",
   "pygments_lexer": "ipython3",
   "version": "3.7.6"
  }
 },
 "nbformat": 4,
 "nbformat_minor": 2
}
