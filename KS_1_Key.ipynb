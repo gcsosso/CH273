{
 "cells": [
  {
   "cell_type": "code",
   "execution_count": 1,
   "metadata": {
    "hideCode": false,
    "hidePrompt": false
   },
   "outputs": [
    {
     "data": {
      "text/html": [
       "<script>\n",
       "code_show=true; \n",
       "function code_toggle() {\n",
       "    if (code_show){\n",
       "        $('div.cell.code_cell.rendered.selected div.input').hide();\n",
       "    } else {\n",
       "        $('div.cell.code_cell.rendered.selected div.input').show();\n",
       "    }\n",
       "    code_show = !code_show\n",
       "} \n",
       "$( document ).ready(code_toggle);\n",
       "</script>\n",
       "Some hidden code... to show/hide this cell's raw code input, click (or double click if stubborn!) <a href=\"javascript:code_toggle()\">here</a>."
      ],
      "text/plain": [
       "<IPython.core.display.HTML object>"
      ]
     },
     "metadata": {},
     "output_type": "display_data"
    },
    {
     "data": {
      "text/html": [
       "<style>\n",
       "div.warn {    \n",
       "    background-color: #b3b3ff;\n",
       "    border-color: #0000b3;\n",
       "    border-left: 5px solid #0000b3;\n",
       "    padding: 0.5em;\n",
       "    }\n",
       " </style>\n"
      ],
      "text/plain": [
       "<IPython.core.display.HTML object>"
      ]
     },
     "execution_count": 1,
     "metadata": {},
     "output_type": "execute_result"
    }
   ],
   "source": [
    "from IPython.display import HTML\n",
    "from IPython.display import display\n",
    "\n",
    "# Taken from https://stackoverflow.com/questions/31517194/how-to-hide-one-specific-cell-input-or-output-in-ipython-notebook\n",
    "tag = HTML('''<script>\n",
    "code_show=true; \n",
    "function code_toggle() {\n",
    "    if (code_show){\n",
    "        $('div.cell.code_cell.rendered.selected div.input').hide();\n",
    "    } else {\n",
    "        $('div.cell.code_cell.rendered.selected div.input').show();\n",
    "    }\n",
    "    code_show = !code_show\n",
    "} \n",
    "$( document ).ready(code_toggle);\n",
    "</script>\n",
    "Some hidden code... to show/hide this cell's raw code input, click (or double click if stubborn!) <a href=\"javascript:code_toggle()\">here</a>.''')\n",
    "display(tag)\n",
    "\n",
    "############### Write code below ##################\n",
    "from IPython.core.display import HTML\n",
    "def css_styling():\n",
    "    styles = open(\"./STUFF/colors.css\", \"r\").read()\n",
    "    return HTML(styles)\n",
    "css_styling()"
   ]
  },
  {
   "cell_type": "markdown",
   "metadata": {
    "hideCode": false,
    "hidePrompt": false
   },
   "source": [
    "# CH273: Key Skills 1\n",
    "## The Ergodic Principle: a Pythonic Tale\n",
    "\n",
    "In this session, we are going to play around with the ergodic principle, a key concept in statistical mechanics. To this end, we will use some computational tools, most notably..."
   ]
  },
  {
   "cell_type": "markdown",
   "metadata": {
    "hideCode": false,
    "hidePrompt": false
   },
   "source": [
    "### Jupyter notebooks\n",
    "\n",
    "<img src=\"./STUFF/jn_logo.png\" width=\"300\">\n",
    "\n",
    "**This!** is actually a Jupyter notebook! It allows you to:\n",
    "\n",
    "- Write down some text\n",
    "- Write computer programs using a number of languages: we are going to use Python\n",
    "- Visualize the outcome of your calculations\n",
    "- Take advantage of powerful computational tools\n",
    "\n",
    "All of this in one place! First things first..."
   ]
  },
  {
   "cell_type": "markdown",
   "metadata": {
    "hideCode": false,
    "hidePrompt": false
   },
   "source": [
    "<div class=warn>\n",
    "These blue boxes contain instructions for you to follow, or stuff for you to do\n",
    "<h2>How to access this Jupyter notebook</h2>\n",
    "\n",
    "* <b>Step 1</b>: Open a web browser, go to [this page](https://warwick.ac.uk/fac/sci/chemistry/research/maurer/maurergroup/software/iatl_strategic_project/), scroll down, download the Login App (the Windows exacutable if using ITS machines) and double click on the executable (usually ended up into the Download folder) <br>\n",
    "* <b>Step 2</b>: The Notebook Launcher pops up: select the CH273 module and fill in the boxes using your SCRTP username and password <br>\n",
    "* <b>Step 3</b>: Open the Jupyter notebook you are interested in, e.g. KS_1_Class.ipynb <br>\n",
    "* <b>Step 4</b>: Make a copy of the orginal notebook (which is read only). In the toolbar on top of the notebook: File - Make a Copy <br>\n",
    "* <b>Step 5</b>: You're all set! <br><br>\n",
    "<b> Remember: </b> You can access this notebook at home at any time by going through the same steps on e.g. your laptop - all the changes you have made will be saved and synced! At the moment, though, you'll have to tunnel through the campus network via VPN (see [here](https://warwick.ac.uk/services/its/servicessupport/networkservices/vpn/))<br>\n",
    "<div/>"
   ]
  },
  {
   "cell_type": "markdown",
   "metadata": {
    "hideCode": false,
    "hidePrompt": false
   },
   "source": [
    "## Right... but what - is - a Jupyter notebook exactly?\n",
    "A Jupyter notebook is a collection of \"cells\" - blocks within which we can e.g. write down an equation or plot a function. We will use \"Markdown cells\" to write down text and equations, and \"Code cells\" to do everything else. Cells can be inserted (and copied, and pasted, and cut!) via the toolbar above. Once we are happy with the content of a given cell, we have to \"Run\" it - to execute it, by holding the shift key and hitting the enter/return key. The Jupyter notebook will take care of running the cell, and let us know if everything is ok. You can also run a cell, or indeed all the cells in a notebook, via the same toolbar above. Let's have a look at Markdown and Code cells, then..."
   ]
  },
  {
   "cell_type": "markdown",
   "metadata": {
    "hideCode": false,
    "hidePrompt": false
   },
   "source": [
    "### This is a Markdown cell\n",
    "Thus, we can write into it! To edit the cell, a double click of the mouse should do.\n",
    "We can play around with **bold text**, *italic text*, \n",
    "# Big Headings, \n",
    "## Small Headings, \n",
    "### Tiny Headings,\n",
    "and much more. Importantly, we can also write down equations using LaTeX syntax. This one should hopefully look quite familiar:\n",
    "\n",
    "$$\n",
    "A_{\\text{Macroscopic}}=\\langle a_{\\text{Microscopic}} \\rangle_{\\text{NVE}}=\\frac{1}{N}\\sum_{i=1}^{N}a_i\n",
    "$$\n",
    "\n",
    "Remember, LaTeX may look daunting at the beginning, but it is the best documented markup language in the world, and after a little while it becomes natural. In fact, journal articles and books are ultimately *all* typesetted in LaTeX!"
   ]
  },
  {
   "cell_type": "code",
   "execution_count": 2,
   "metadata": {
    "hideCode": false,
    "hidePrompt": false
   },
   "outputs": [
    {
     "name": "stdout",
     "output_type": "stream",
     "text": [
      "This is a Code cell\n"
     ]
    }
   ],
   "source": [
    "string = \"This is a Code cell\"\n",
    "print(string) "
   ]
  },
  {
   "cell_type": "markdown",
   "metadata": {
    "hideCode": false,
    "hidePrompt": false
   },
   "source": [
    "### Wait, what happened?\n",
    "In the cell above, we actually used some Python already! We did two things:\n",
    "\n",
    "- 1. We have stored some text (**This is a code cell**) into a *variable* we have called **string**\n",
    "- 2. We have printed the variable **string**"
   ]
  },
  {
   "cell_type": "markdown",
   "metadata": {
    "hideCode": false,
    "hidePrompt": false
   },
   "source": [
    "## P is for Python!\n",
    "What's Python anyway? It's a programming language - one of many, such as C++ or Fortran. It is especially popular these days, mostly because there exist a phenomenal amount of Python libraries (or packages, or modules...) out there that can be harnessed for free. These can in turn be used to do all sort of interesting things, from machine learning for drug design to stock market analysis. This is the reason why a decent knowledge of Python is now often indicated as a desirable (transferable!) skill when interviewing for jobs in Pharma companies and finance alike.\n",
    "<img src=\"./STUFF/python_logo.png\" width=\"300\">"
   ]
  },
  {
   "cell_type": "markdown",
   "metadata": {
    "hideCode": false,
    "hidePrompt": false
   },
   "source": [
    "### One cool thing about Python...\n",
    "In python you can sum (concatenate...) strings as if they were numbers!"
   ]
  },
  {
   "cell_type": "code",
   "execution_count": 3,
   "metadata": {},
   "outputs": [
    {
     "name": "stdout",
     "output_type": "stream",
     "text": [
      "Winter is Coming!\n"
     ]
    }
   ],
   "source": [
    "string_1 = \"Winter\"\n",
    "string_2 = \" is\"\n",
    "string_3 = \" Coming!\"\n",
    "string_123 = string_1+string_2+string_3\n",
    "print(string_123)"
   ]
  },
  {
   "cell_type": "markdown",
   "metadata": {
    "hideCode": false,
    "hidePrompt": false
   },
   "source": [
    "Great - now that we know everything about Python, Jupyter Notebooks, Markdown and Code cells, we have what we need to make a start..."
   ]
  },
  {
   "cell_type": "markdown",
   "metadata": {
    "hideCode": false,
    "hidePrompt": false
   },
   "source": [
    "# The Ergodic Principle\n",
    "\n",
    "In the previous lecture we have seen that in order to estimate the value of a certain macroscopic quantity, such as the temperature $\\mathcal{T}$ of a system, we can calculate an *ensemble average* of the temperature of several (the more the better!) microscopic configuration of the same system. Assuming we are working in a microcanonical ensemble $NVE$ with $N$ microscopic configurations (each one characterised by a certain temperature $T_i$), we have:\n",
    "\n",
    "$$\n",
    "\\mathcal{T}=\\langle T \\rangle_{\\text{NVE}}=\\frac{1}{N}\\sum_{i=1}^{N} T_i\n",
    "$$\n",
    "\n",
    "However, we have also seen that the outcome of molecular dynamics simulations (one of the most common computational tools to explore the phase space!) consist in a *trajectory* - that is, a collection of configurations of *the same* microscopic configuration propagated in time. But then, what do we do with it? Luckily, if we assume that we have run our simulation long enough for that particular configuration to have explored the whole of the phase space accessible to the system, then we can apply the so-called **ergodic principle**:\n",
    "\n",
    "$$\n",
    "\\mathcal{T}=\\langle T \\rangle_{\\text{NVE}}=\\frac{1}{N}\\sum_{i=1}^{N} T_i = \\lim_{t\\to\\infty}\\int_0^t T_i \\ dt'\n",
    "$$\n",
    "\n",
    "That is, if the system has explored in time the entire phase space, then *we can take a time average instead of an ensemble average*. Note that the time average in the equation above is expressed in the form of an integral. In molecular dynamics, though, time is not continuous - it is discrete, in that we evolve the system in time via subsequent *timesteps* $\\Delta t$, i.e. small time windows. In addition, at a certain point (after $N_{\\Delta t}$ timesteps) a molecular dynamics run will have to stop, so that we cannot explore the phase space indefinitely. Thus, we write:\n",
    "\n",
    "$$\n",
    "\\mathcal{T}=\\langle T \\rangle_{\\text{NVE}}=\\frac{1}{N}\\sum_{i=1}^{N} T_i = \\frac{1}{N_{\\Delta t}\\cdot\\Delta t}\\sum_{j=1}^{N_{\\Delta t}} T(\\Delta t_j)\n",
    "$$\n",
    "\n",
    "Is this actually true? We are about to find out!"
   ]
  },
  {
   "cell_type": "markdown",
   "metadata": {
    "hideCode": false,
    "hidePrompt": false
   },
   "source": [
    "### Ensemble average\n",
    "We start by looking at the temperature of ten different microscopic configurations of the same systems (a box containing 2000 water molecules). Just ten? Yes, because in order to generate them, I had to run ten different, *statistically independent* molecular dynamics simulations. Now, these temperatures are stored in a file, \"temperature_ensemble.dat\" which contains two columns: the first column is just an index (1, 2... 10), the second one contains the temperatures we are interested in. Time to code...\n",
    "<img src=\"./STUFF/ten_c.jpeg\" width=\"800\">"
   ]
  },
  {
   "cell_type": "code",
   "execution_count": 4,
   "metadata": {
    "hideCode": false,
    "hidePrompt": false
   },
   "outputs": [
    {
     "name": "stdout",
     "output_type": "stream",
     "text": [
      "[[  1.   295.23]\n",
      " [  2.   302.42]\n",
      " [  3.   302.61]\n",
      " [  4.   289.72]\n",
      " [  5.   303.2 ]\n",
      " [  6.   301.55]\n",
      " [  7.   302.1 ]\n",
      " [  8.   292.39]\n",
      " [  9.   295.12]\n",
      " [ 10.   297.61]]\n"
     ]
    }
   ],
   "source": [
    "# This is a comment - the # tells Python to just ignore whatever follows\n",
    "\n",
    "# First things first, we are going to \"take advantage of powerful computational tools\"\n",
    "# Specifically, we are going to \"import\" the numpy library - an incredibly useful set of of Pythonic tools\n",
    "# that will save us a lot of time when dealing with numbers. off we go...\n",
    "\n",
    "import numpy as np # All set! We can now use numpy, and because we are lazy, each time we use it \n",
    "                   # we are going to call it via \"np\" as opposed to \"numpy\n",
    "\n",
    "# We store the name of the file we want to read (temperature_ensemble.dat) into a variable (file_name_ensemble):\n",
    "file_name_ensemble = \"./STUFF/temperature_ensemble.dat\"\n",
    "\n",
    "\n",
    "# We use the \"loadtxt\" tool provided by numpy (which we have called by \"np.loadtxt\") to read \n",
    "# the whole content of the file into the variable t_ensemble\n",
    "t_ensemble = np.loadtxt(file_name_ensemble)\n",
    "\n",
    "\n",
    "# Let's have a look at the \"t_ensemble\" variable:\n",
    "print(t_ensemble)"
   ]
  },
  {
   "cell_type": "code",
   "execution_count": 5,
   "metadata": {
    "hideCode": false,
    "hidePrompt": false
   },
   "outputs": [
    {
     "name": "stdout",
     "output_type": "stream",
     "text": [
      "[ 1.  2.  3.  4.  5.  6.  7.  8.  9. 10.]\n"
     ]
    }
   ],
   "source": [
    "# What did we do? Well, it turns out the \"t_ensemble\" variable is actually a two-dimensional array!\n",
    "# No need to panic, though. We can actually select just the first column of it:\n",
    "print(t_ensemble[:,0])"
   ]
  },
  {
   "cell_type": "code",
   "execution_count": 6,
   "metadata": {
    "hideCode": false,
    "hidePrompt": false
   },
   "outputs": [
    {
     "name": "stdout",
     "output_type": "stream",
     "text": [
      "302.61\n"
     ]
    }
   ],
   "source": [
    "# Wait, what? Well, in order to access a certain element of an array, we use the following syntax:\n",
    "# name_of_the_array[index of the row, index of the column]\n",
    "\n",
    "# In the example above, \":\" means \"use the whole column\", while \"0\" actually stands for the first column\n",
    "# Why? Because in Python the numbering of array elements starts from zero, not from one!\n",
    "# For example, in order to access the third element of the second column of \"t_ensemble\"...\n",
    "print(t_ensemble[2,1])"
   ]
  },
  {
   "cell_type": "code",
   "execution_count": 7,
   "metadata": {
    "hideCode": false,
    "hidePrompt": false
   },
   "outputs": [
    {
     "name": "stdout",
     "output_type": "stream",
     "text": [
      "298.19500000000005\n"
     ]
    }
   ],
   "source": [
    "# Great! In order to compute the temperature as an ensemble average from these data, then, we just sum the elements \n",
    "# in the second column of \"t_ensemble\", and then divide the result by ten. This is one way to do it:\n",
    "ensemble_average=np.sum(t_ensemble[:,1])/len(t_ensemble[:,1])\n",
    "print(ensemble_average)\n",
    "\n",
    "# We have used the \"sum\" tool of numpy (which we have called by \"np.sum\") to sum all the elements in\n",
    "# the second column of \"t_ensemble\". We have also divided by ten, i.e. the length of \"t_ensemble\" which\n",
    "# we have extracted via the \"len\" command. "
   ]
  },
  {
   "cell_type": "markdown",
   "metadata": {
    "hideCode": false,
    "hidePrompt": false
   },
   "source": [
    "<div class=warn>\n",
    "Calculate the standard deviation of the <span style=\"font-family: courier\">t_ensemble</span> array using numpy. \n",
    "Dont' know where to start? Google it!\n",
    "<div/>"
   ]
  },
  {
   "cell_type": "code",
   "execution_count": 8,
   "metadata": {},
   "outputs": [
    {
     "data": {
      "text/plain": [
       "4.61530768205111"
      ]
     },
     "execution_count": 8,
     "metadata": {},
     "output_type": "execute_result"
    }
   ],
   "source": [
    "np.std(t_ensemble[:,1])"
   ]
  },
  {
   "cell_type": "code",
   "execution_count": 9,
   "metadata": {
    "hideCode": false,
    "hidePrompt": false,
    "scrolled": true
   },
   "outputs": [
    {
     "data": {
      "image/png": "[encoded data removed]",
      "text/plain": [
       "<Figure size 640x320 with 1 Axes>"
      ]
     },
     "metadata": {},
     "output_type": "display_data"
    }
   ],
   "source": [
    "# Now, can we have a look at the data - and at the ensemble average we have just calculated, please?\n",
    "# Of course we can! We start by importing another very useful set of tools: matplotlib,\n",
    "# which can plot basically everything you want in whatever fashion you like!\n",
    "\n",
    "# The following two lines have to do with formatting figures nicely...\n",
    "%matplotlib notebook \n",
    "%matplotlib inline \n",
    "import matplotlib.pyplot as plt\n",
    "\n",
    "\n",
    "plt.figure(figsize=(8, 4), dpi= 80, facecolor='w', edgecolor='k') # figsize determine the actual size of the figure\n",
    "plt.plot((1, 10), (ensemble_average, ensemble_average), 'k-') # Draw a line indicating the ensemble average\n",
    "\n",
    "# Plot the temperature\n",
    "plt.plot(t_ensemble[:,0], t_ensemble[:,1], 'o', markerfacecolor='orange', markersize=12, markeredgecolor='blue', \n",
    "         linewidth=2.5)\n",
    "\n",
    "# Labeling of x and y axes\n",
    "plt.xlabel('Configuration n.',fontsize=14)\n",
    "plt.ylabel('Temperature [K]',fontsize=14)\n",
    "\n",
    "plt.tick_params(axis='both', which='major', labelsize=14)\n",
    "plt.tick_params(axis='both', which='minor', labelsize=14)\n",
    "\n",
    "# Show the final result\n",
    "plt.show()"
   ]
  },
  {
   "cell_type": "markdown",
   "metadata": {
    "hideCode": false,
    "hidePrompt": false
   },
   "source": [
    "### Time average\n",
    "Now, we shall compute the *time* average of the temperature along a molecular dynamics trajectory (containing 250 frames, each one separated by 4 ps):"
   ]
  },
  {
   "cell_type": "markdown",
   "metadata": {
    "hideCode": false,
    "hidePrompt": false
   },
   "source": [
    "Note that the system is exactly the same as above (a box containing 2000 water molecules), but in this case we are going to look at how exactly the temperature changes in time - as opposed to taking an ensemble average."
   ]
  },
  {
   "cell_type": "code",
   "execution_count": 10,
   "metadata": {},
   "outputs": [
    {
     "data": {
      "text/html": [
       "<iframe src=\"https://player.vimeo.com/video/293032511?title=0&byline=0&portrait=0\" width=\"700\" height=\"394\" frameborder=\"0\" webkitallowfullscreen mozallowfullscreen allowfullscreen></iframe><p><a href=\"https://vimeo.com/293032511\"> </p>"
      ],
      "text/plain": [
       "<IPython.core.display.HTML object>"
      ]
     },
     "execution_count": 10,
     "metadata": {},
     "output_type": "execute_result"
    }
   ],
   "source": [
    "from IPython.display import HTML\n",
    "HTML('<iframe src=\"https://player.vimeo.com/video/293032511?title=0&byline=0&portrait=0\" width=\"700\" height=\"394\" frameborder=\"0\" webkitallowfullscreen mozallowfullscreen allowfullscreen></iframe><p><a href=\"https://vimeo.com/293032511\"> </p>')\n"
   ]
  },
  {
   "cell_type": "markdown",
   "metadata": {
    "hideCode": false,
    "hidePrompt": false
   },
   "source": [
    "<div class=warn>\n",
    "Calculate the difference between $\\langle T \\rangle_{ensemble}$ and $\\langle T \\rangle_{time}$. <br>\n",
    "* Load the data (time and temperature, ps and K, respectively) from the <span style=\"font-family: courier\">temperature_MD.dat</span> file into a numpy array. <br>\n",
    "* Calculate the time average of the temperature <br>\n",
    "* Plot the temperature as a function of time (label the axis!) <br>\n",
    "* Calculate || $\\langle T \\rangle_{ensemble} - \\langle T \\rangle_{time}$ ||\n",
    "<div/>"
   ]
  },
  {
   "cell_type": "code",
   "execution_count": 11,
   "metadata": {
    "hideCode": false,
    "hidePrompt": false
   },
   "outputs": [],
   "source": [
    "# Load the data \n",
    "file_name_time = \"./STUFF/temperature_MD.dat\"\n",
    "t_time = np.loadtxt(file_name_time)\n",
    "#print(t_time)"
   ]
  },
  {
   "cell_type": "code",
   "execution_count": 12,
   "metadata": {
    "hideCode": false,
    "hidePrompt": false
   },
   "outputs": [
    {
     "name": "stdout",
     "output_type": "stream",
     "text": [
      "299.8967474223108\n"
     ]
    }
   ],
   "source": [
    "# Calculate the time average of the temperature \n",
    "time_average=np.sum(t_time[:,1])/len(t_time[:,1])\n",
    "print(time_average)"
   ]
  },
  {
   "cell_type": "code",
   "execution_count": 13,
   "metadata": {
    "hideCode": false,
    "hidePrompt": false
   },
   "outputs": [
    {
     "data": {
      "image/png": "[encoded data removed]",
      "text/plain": [
       "<Figure size 640x320 with 1 Axes>"
      ]
     },
     "metadata": {},
     "output_type": "display_data"
    }
   ],
   "source": [
    "# Plot the temperature as a function of time\n",
    "plt.figure(figsize=(8, 4), dpi= 80, facecolor='w', edgecolor='k') # figsize determine the actual size of the figure\n",
    "plt.plot((0, 1000), (time_average, time_average), 'k-') # Draw a line indicating the ensemble average\n",
    "\n",
    "# Plot the temperature\n",
    "plt.plot(t_time[:,0], t_time[:,1], 'o', markerfacecolor='orange', markersize=6, markeredgecolor='blue', \n",
    "         linewidth=2.5)\n",
    "\n",
    "# Labeling of x and y axes\n",
    "plt.xlabel('Time [ps]',fontsize=14)\n",
    "plt.ylabel('Temperature [K]',fontsize=14)\n",
    "\n",
    "plt.tick_params(axis='both', which='major', labelsize=14)\n",
    "plt.tick_params(axis='both', which='minor', labelsize=14)\n",
    "\n",
    "# Show the final result\n",
    "plt.show()"
   ]
  },
  {
   "cell_type": "code",
   "execution_count": 14,
   "metadata": {
    "hideCode": false,
    "hidePrompt": false
   },
   "outputs": [
    {
     "data": {
      "text/plain": [
       "1.7017474223107456"
      ]
     },
     "execution_count": 14,
     "metadata": {},
     "output_type": "execute_result"
    }
   ],
   "source": [
    "#Calculate || $\\langle T \\rangle_{ensemble} - \\langle T \\rangle_{time}$ ||\n",
    "abs(ensemble_average-time_average) # [K]"
   ]
  },
  {
   "cell_type": "markdown",
   "metadata": {
    "hideCode": false,
    "hidePrompt": false
   },
   "source": [
    "<div class=warn>\n",
    "<b>Here be dragons...</b><br>\n",
    "* Create a histogram of the temperature values contained in the <span style=\"font-family: courier\">temperature_MD.dat</span> file <br>\n",
    "* Normalize said histogram to obtain a probability density function\n",
    "<div/>"
   ]
  },
  {
   "cell_type": "code",
   "execution_count": 15,
   "metadata": {
    "hideCode": false,
    "hidePrompt": false
   },
   "outputs": [
    {
     "data": {
      "image/png": "[encoded data removed]",
      "text/plain": [
       "<Figure size 640x320 with 1 Axes>"
      ]
     },
     "metadata": {},
     "output_type": "display_data"
    }
   ],
   "source": [
    "# Create a histogram of the temperature values contained in the temperature_MD.dat file \n",
    "plt.figure(figsize=(8, 4), dpi= 80, facecolor='w', edgecolor='k') # figsize determine the actual size of the figure\n",
    "hist, bin_edges = np.histogram(t_time[:,1])\n",
    "n, bins, patches = plt.hist(x=t_time[:,1], bins=bin_edges, color='#0504aa',\n",
    "                            alpha=0.7, rwidth=0.85)\n",
    "plt.ylabel('Frequency [n.of counts]',fontsize=14);\n",
    "plt.xlabel('Temperature [K]',fontsize=14);\n",
    "plt.tick_params(axis='both', which='major', labelsize=14)\n",
    "plt.tick_params(axis='both', which='minor', labelsize=14)\n",
    "plt.xlim([285,315])\n",
    "plt.show()"
   ]
  },
  {
   "cell_type": "code",
   "execution_count": 16,
   "metadata": {
    "hideCode": false,
    "hidePrompt": false
   },
   "outputs": [
    {
     "data": {
      "image/png": "[encoded data removed]",
      "text/plain": [
       "<Figure size 640x320 with 1 Axes>"
      ]
     },
     "metadata": {},
     "output_type": "display_data"
    }
   ],
   "source": [
    "# Normalize said histogram to obtain a probability density function\n",
    "\n",
    "# Find the total area\n",
    "bin_width = bin_edges[1]-bin_edges[0]\n",
    "n_bins = len(hist)\n",
    "tot_area = 0\n",
    "for i in range(n_bins):\n",
    "    tot_area = tot_area + (bin_width*hist[i])  \n",
    "    \n",
    "# Normalize the histogram / total area\n",
    "pdens = np.zeros(n_bins)\n",
    "for i in range(n_bins):\n",
    "    pdens[i] = hist[i]/tot_area\n",
    "    \n",
    "b_plot=(bin_edges[:-1])+(bin_width/2)\n",
    "\n",
    "plt.figure(figsize=(8, 4), dpi= 80, facecolor='w', edgecolor='k') # figsize determine the actual size of the figure\n",
    "plt.bar(b_plot, pdens, bin_width*0.8, color='#0504aa',alpha=0.7)\n",
    "\n",
    "plt.ylabel('P(T)',fontsize=14);\n",
    "plt.xlabel('Temperature [K]',fontsize=14);\n",
    "plt.tick_params(axis='both', which='major', labelsize=14)\n",
    "plt.tick_params(axis='both', which='minor', labelsize=14)\n",
    "plt.xlim([285,315])\n",
    "plt.show()"
   ]
  },
  {
   "cell_type": "markdown",
   "metadata": {
    "hideCode": false,
    "hidePrompt": false
   },
   "source": [
    "### In a nutshell...\n",
    "<img src=\"./STUFF/ave.jpeg\" width=\"600\">"
   ]
  },
  {
   "cell_type": "code",
   "execution_count": null,
   "metadata": {},
   "outputs": [],
   "source": []
  }
 ],
 "metadata": {
  "hide_code_all_hidden": false,
  "kernelspec": {
   "display_name": "Python 3",
   "language": "python",
   "name": "python3"
  },
  "language_info": {
   "codemirror_mode": {
    "name": "ipython",
    "version": 3
   },
   "file_extension": ".py",
   "mimetype": "text/x-python",
   "name": "python",
   "nbconvert_exporter": "python",
   "pygments_lexer": "ipython3",
   "version": "3.6.6"
  },
  "widgets": {
   "state": {
    "5adb609cb37c464dbde144ae46077fbd": {
     "views": [
      {
       "cell_index": 0
      }
     ]
    },
    "792df48b8c164530ba39af44f0f1427a": {
     "views": [
      {
       "cell_index": 0
      }
     ]
    },
    "b96cc2fc523e48daaa490b7721ad8648": {
     "views": [
      {
       "cell_index": 0
      }
     ]
    },
    "c1fa81841eee40c2a4a9f2315984c588": {
     "views": [
      {
       "cell_index": 0
      }
     ]
    }
   },
   "version": "1.2.0"
  }
 },
 "nbformat": 4,
 "nbformat_minor": 2
}
