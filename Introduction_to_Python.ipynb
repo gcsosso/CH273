{
 "cells": [
  {
   "cell_type": "code",
   "execution_count": 2,
   "metadata": {
    "hideCode": false,
    "hidePrompt": false
   },
   "outputs": [
    {
     "data": {
      "text/html": [
       "<script>\n",
       "code_show=true; \n",
       "function code_toggle() {\n",
       "    if (code_show){\n",
       "        $('div.cell.code_cell.rendered.selected div.input').hide();\n",
       "    } else {\n",
       "        $('div.cell.code_cell.rendered.selected div.input').show();\n",
       "    }\n",
       "    code_show = !code_show\n",
       "} \n",
       "$( document ).ready(code_toggle);\n",
       "</script>\n",
       "Some hidden code... to show/hide this cell's raw code input, click (or double click if stubborn!) <a href=\"javascript:code_toggle()\">here</a>."
      ],
      "text/plain": [
       "<IPython.core.display.HTML object>"
      ]
     },
     "metadata": {},
     "output_type": "display_data"
    },
    {
     "data": {
      "text/html": [
       "<style>\n",
       "div.warn {    \n",
       "    background-color: #b3b3ff;\n",
       "    border-color: #0000b3;\n",
       "    border-left: 5px solid #0000b3;\n",
       "    padding: 0.5em;\n",
       "    }\n",
       " </style>\n"
      ],
      "text/plain": [
       "<IPython.core.display.HTML object>"
      ]
     },
     "execution_count": 2,
     "metadata": {},
     "output_type": "execute_result"
    }
   ],
   "source": [
    "from IPython.display import HTML\n",
    "from IPython.display import display\n",
    "\n",
    "# Taken from https://stackoverflow.com/questions/31517194/how-to-hide-one-specific-cell-input-or-output-in-ipython-notebook\n",
    "tag = HTML('''<script>\n",
    "code_show=true; \n",
    "function code_toggle() {\n",
    "    if (code_show){\n",
    "        $('div.cell.code_cell.rendered.selected div.input').hide();\n",
    "    } else {\n",
    "        $('div.cell.code_cell.rendered.selected div.input').show();\n",
    "    }\n",
    "    code_show = !code_show\n",
    "} \n",
    "$( document ).ready(code_toggle);\n",
    "</script>\n",
    "Some hidden code... to show/hide this cell's raw code input, click (or double click if stubborn!) <a href=\"javascript:code_toggle()\">here</a>.''')\n",
    "display(tag)\n",
    "\n",
    "############### Write code below ##################\n",
    "from IPython.core.display import HTML\n",
    "def css_styling():\n",
    "    styles = open(\"./STUFF/colors.css\", \"r\").read()\n",
    "    return HTML(styles)\n",
    "css_styling()"
   ]
  },
  {
   "cell_type": "markdown",
   "metadata": {
    "hideCode": false,
    "hidePrompt": false
   },
   "source": [
    "# CH273: Introduction to Python\n",
    "\n",
    "In this session, we are going to familiaries ourselves with Python - a very powerful coding language.\n",
    "\n",
    "## Hey, wait a sec!\n",
    "Quite a few of you might be wondering about why should we care about coding in the first place. After all, you signed up for something like this...\n",
    "\n",
    "<img src=\"./STUFF/wet_chemistry.jpg\" width=\"600\">\n",
    "\n",
    "... so why should you care about this geeky stuff?\n",
    "\n",
    "<img src=\"./STUFF/geek.jpg\" width=\"600\">"
   ]
  },
  {
   "cell_type": "markdown",
   "metadata": {
    "hideCode": false,
    "hidePrompt": false
   },
   "source": [
    "\n",
    "\n",
    "\n",
    "Well, it turns out that coding is becoming an increasingly crucial skill for a chemist: whether you are interested in drug design...\n",
    "\n",
    "<img src=\"./STUFF/d_design.png\" width=\"600\">\n",
    "\n",
    "...reaction optimisation, or indeed any time you characterise a sample by e.g. your spectroscopy of choice... you will be dealing with data, and data means coding.\n",
    "\n",
    "<img src=\"./STUFF/data_coding.jpg\" width=\"600\">\n",
    "\n",
    "Gone are the days where being an excellent synthetic chemist will open you the doors toward a top job in, say, a pharmaceutical industry. These days, being able to code is just as essential as mixing your favourite reagents - so let's try to give it a go, then!\n",
    "\n",
    "To this end, we will use some computational tools, most notably..."
   ]
  },
  {
   "cell_type": "markdown",
   "metadata": {
    "hideCode": false,
    "hidePrompt": false
   },
   "source": [
    "## Jupyter notebooks\n",
    "\n",
    "<img src=\"./STUFF/jn_logo.png\" width=\"300\">\n",
    "\n",
    "**This** is actually a Jupyter notebook! It allows you to:\n",
    "\n",
    "- Write down some text\n",
    "- Write computer programs using a number of languages: we are going to use Python\n",
    "- Visualize the outcome of your calculations\n",
    "- Take advantage of powerful computational tools\n",
    "\n",
    "All of this in one place! First things first..."
   ]
  },
  {
   "cell_type": "markdown",
   "metadata": {
    "hideCode": false,
    "hidePrompt": false
   },
   "source": [
    "<div class=warn>\n",
    "These blue boxes contain instructions for you to follow, or stuff for you to do\n",
    "<h2>How to access this Jupyter notebook</h2>\n",
    "\n",
    "* <b>Step 1</b>: Open a web browser and go to [this page](https://jupyter.warwick.ac.uk/).<br>\n",
    "* <b>Step 2</b>: Select the relevant module (CH273); enter your SCRTP username and password and press the \"Start Server\" button.<br>\n",
    "* <b>Step 3</b>: Wait (it could take up to a couple of minutes) until the blue blox says \"Jupyter notebook server running!\". At that point, click on the weblink below said message.<br>\n",
    "* <b>Step 4</b>: Select the Jupyter Notebook you want to work on. Remember to make a copy of the orginal notebook (which is read only!). To do so, in the toolbar on top of the notebook, select File and then Make a Copy <br>\n",
    "* <b>Step 5</b>: You're all set! <br>\n",
    "* <b>Step 6</b>: <font color=\"red\">When you are done, remember to click the \"Stop Server\" button in the launcher web browser tab.</font> Please do, it's really quite important. <br>\n",
    "<b> Remember: </b> You can access your copy of the Notebook at any time from any device off and on campus by going through the same steps on e.g. your laptop - all the changes you have made will be saved and synced! <br>\n",
    "<div/>"
   ]
  },
  {
   "cell_type": "markdown",
   "metadata": {
    "hideCode": false,
    "hidePrompt": false
   },
   "source": [
    "### Right... but what - is - a Jupyter notebook exactly?\n",
    "A Jupyter notebook is a collection of \"cells\" - blocks within which we can e.g. write down an equation or plot a function. We will use \"Markdown cells\" to write down text and equations, and \"Code cells\" to do everything else. Cells can be inserted (and copied, and pasted, and cut!) via the toolbar above. Once we are happy with the content of a given cell, we have to \"Run\" it - to execute it, by holding the shift key and hitting the enter/return key. The Jupyter notebook will take care of running the cell, and let us know if everything is ok. You can also run a cell, or indeed all the cells in a notebook, via the same toolbar above. Let's have a look at Markdown and Code cells, then..."
   ]
  },
  {
   "cell_type": "markdown",
   "metadata": {
    "hideCode": false,
    "hidePrompt": false
   },
   "source": [
    "### This is a Markdown cell\n",
    "Thus, we can write into it! To edit the cell, a double click of the mouse should do.\n",
    "We can play around with **bold text**, *italic text*, \n",
    "# Big Headings, \n",
    "## Small Headings, \n",
    "### Tiny Headings,\n",
    "and much more. Importantly, we can also write down equations using LaTeX syntax. This one should hopefully look quite familiar in a couple of weeks' time...\n",
    "\n",
    "$$\n",
    "A_{\\text{Macroscopic}}=\\langle a_{\\text{Microscopic}} \\rangle_{\\text{NVE}}=\\frac{1}{N}\\sum_{i=1}^{N}a_i\n",
    "$$\n",
    "\n",
    "Remember, LaTeX may look daunting at the beginning, but it is the best documented markup language in the world, and after a little while it becomes natural. In fact, journal articles and books are ultimately *all* typeset in LaTeX!"
   ]
  },
  {
   "cell_type": "code",
   "execution_count": 2,
   "metadata": {
    "hideCode": false,
    "hidePrompt": false
   },
   "outputs": [
    {
     "name": "stdout",
     "output_type": "stream",
     "text": [
      "This is a Code cell\n"
     ]
    }
   ],
   "source": [
    "string = \"This is a Code cell\"\n",
    "print(string) "
   ]
  },
  {
   "cell_type": "markdown",
   "metadata": {
    "hideCode": false,
    "hidePrompt": false
   },
   "source": [
    "### Wait, what happened?\n",
    "In the cell above, we actually used some Python already! We did two things:\n",
    "\n",
    "- 1. We have stored some text (**This is a code cell**) into a *variable* we have called **string**\n",
    "- 2. We have printed the variable **string** to screen"
   ]
  },
  {
   "cell_type": "markdown",
   "metadata": {
    "hideCode": false,
    "hidePrompt": false
   },
   "source": [
    "### How to run a Jupyter Notebook\n",
    "\n",
    "As already mentioned, you can run a cell of a Jupyter Notebook by clicking on it and either press Shift+Enter (faster) or pressing the Run button in the toolbar. If you see a `*` in the `[]` parenthesis on the left of the cell, it means that the Notebook is running the code (be patient). When you see a number in said parenthesis, the cell has finished running the code and you can move to the next one (in many cases the process is so fast you won't be seeing the * at all!)\n",
    "\n",
    "In order to edit the content of a code cell, you just have to click in it (compare this to Markdown cells which require a double click).\n",
    "\n",
    "A Notebook really behaves like a storybook, in that the instructions are intended to be executed from the first cell (top) to the last cell (bottom). That means that if you try to run cell 2 below without having run cell 1 first, you will get an error message. In particular, you will be told that `name 'a' is not defined`: this is very true, as you haven't executed cell 1 where we have defined a = 2."
   ]
  },
  {
   "cell_type": "code",
   "execution_count": 3,
   "metadata": {},
   "outputs": [],
   "source": [
    "# Cell 1 (text entered after the # symbol is ignored by Python - this allows us to leave comments in the code)\n",
    "\n",
    "a = 2 \n",
    "b = 3"
   ]
  },
  {
   "cell_type": "code",
   "execution_count": 4,
   "metadata": {},
   "outputs": [
    {
     "name": "stdout",
     "output_type": "stream",
     "text": [
      "5\n"
     ]
    }
   ],
   "source": [
    "# Cell 2 \n",
    "print(a+b)"
   ]
  },
  {
   "cell_type": "markdown",
   "metadata": {},
   "source": [
    "Note that you can insert so-called \"comments\" (i.e. stuff that Python ignores, but which let you take notes about your coding as you go along - very useful, you try remembering what a bit of code does 2 years after you oringinally wrote it!) by inserting a `#` into Code cells.\n",
    "\n",
    "Also, when the Notebook becomes quite long, is is always best to run all the cells from top to bottom in one go. You can do this by selecting the Kernel button in the toolbar, and pressing the Restart & Run All button.\n",
    "\n",
    "Also,remember that you can cut, copy and paste cells via the corresponding buttons in the toolbar."
   ]
  },
  {
   "cell_type": "markdown",
   "metadata": {
    "hideCode": false,
    "hidePrompt": false
   },
   "source": [
    "<div class=warn>\n",
    "\n",
    "<h2>Hello World</h2>\n",
    "\n",
    "* <b>Step 1</b>: Insert a Markdown cell containing an heading, e.g. `Hello World`, and some text, e.g. `In the code cell below we are going to print our first \"Hello World\" message`.<br>\n",
    "* <b>Step 2</b>: Insert a code cell that prints `Hello World`.<br>"
   ]
  },
  {
   "cell_type": "markdown",
   "metadata": {
    "hideCode": false,
    "hidePrompt": false
   },
   "source": [
    "## P is for Python!\n",
    "What's Python anyway? It's a programming language - one of many, such as C++ or Fortran. It is especially popular these days, mostly because there exists a phenomenal amount of Python libraries (or packages, or modules...) out there that can be harnessed for free. These can in turn be used to do all sort of interesting things, from machine learning for drug design to stock market analysis. This is the reason why a decent knowledge of Python is now often indicated as a desirable (transferable!) skill when interviewing for jobs in Pharma companies and finance alike.\n",
    "<img src=\"./STUFF/python_logo.png\" width=\"300\">"
   ]
  },
  {
   "cell_type": "markdown",
   "metadata": {
    "hideCode": false,
    "hidePrompt": false
   },
   "source": [
    "### One cool thing about Python...\n",
    "In python you can sum (concatenate...) strings as if they were numbers!"
   ]
  },
  {
   "cell_type": "code",
   "execution_count": 5,
   "metadata": {
    "scrolled": true
   },
   "outputs": [
    {
     "name": "stdout",
     "output_type": "stream",
     "text": [
      "Winter is Coming!\n"
     ]
    }
   ],
   "source": [
    "string_1 = \"Winter\"\n",
    "string_2 = \" is\"\n",
    "string_3 = \" Coming!\"\n",
    "string_123 = string_1+string_2+string_3\n",
    "print(string_123)"
   ]
  },
  {
   "cell_type": "markdown",
   "metadata": {
    "hideCode": false,
    "hidePrompt": false
   },
   "source": [
    "<img src=\"./STUFF/winter.jpg\" width=\"600\">"
   ]
  },
  {
   "cell_type": "markdown",
   "metadata": {
    "hideCode": false,
    "hidePrompt": false
   },
   "source": [
    "### A few tricky things about Python... \n",
    "\n",
    "Python lets you re-define variables at will. This is handy, but also very dangerous. When the Notebook gets long, you may forget about the fact that you defined the variable A before (say, `A = 2`)- and then re-assign it as `A = 4`, which may ruin your results. \n",
    "\n",
    "In addition, Python is a case-sensistive language, which means that the variable `A` is different from the variable `a`."
   ]
  },
  {
   "cell_type": "code",
   "execution_count": 3,
   "metadata": {
    "scrolled": true
   },
   "outputs": [
    {
     "name": "stdout",
     "output_type": "stream",
     "text": [
      "2 3\n"
     ]
    }
   ],
   "source": [
    "a = 1\n",
    "a = 2\n",
    "A = 3\n",
    "print(a,A)"
   ]
  },
  {
   "cell_type": "markdown",
   "metadata": {
    "hideCode": false,
    "hidePrompt": false
   },
   "source": [
    "Finally, Python doesn't warn you about any potential mistaake until it's too late - that is, until you actually run a cell. What then? Well..."
   ]
  },
  {
   "cell_type": "markdown",
   "metadata": {
    "hideCode": false,
    "hidePrompt": false
   },
   "source": [
    "### What do do when you get an error\n",
    "\n",
    "One extremely useful thing about Python is that it is incredibly popular. Because of that, almost certainly whatever error you got has been encountered before - and some generous soul has solved it already for us. \n",
    "\n",
    "The first thing to do upon getting an error is thus not to raise your hand and summon the demonstrator/lecturer, but to Google it. That solves 99.9% of your issues. \n",
    "\n",
    "<img src=\"./STUFF/google.png\" width=\"600\">"
   ]
  },
  {
   "cell_type": "markdown",
   "metadata": {
    "hideCode": false,
    "hidePrompt": false
   },
   "source": [
    "Not convinced? Alright, let's try. If you try to execute the cell below, you'll get this error: `invalid syntax`."
   ]
  },
  {
   "cell_type": "code",
   "execution_count": 7,
   "metadata": {},
   "outputs": [
    {
     "ename": "SyntaxError",
     "evalue": "invalid syntax (<ipython-input-7-7ba312d6e0af>, line 1)",
     "output_type": "error",
     "traceback": [
      "\u001b[0;36m  File \u001b[0;32m\"<ipython-input-7-7ba312d6e0af>\"\u001b[0;36m, line \u001b[0;32m1\u001b[0m\n\u001b[0;31m    for i in range(0, 10:\u001b[0m\n\u001b[0m                        ^\u001b[0m\n\u001b[0;31mSyntaxError\u001b[0m\u001b[0;31m:\u001b[0m invalid syntax\n"
     ]
    }
   ],
   "source": [
    "for i in range(0, 10:\n",
    "    print(i**3)"
   ]
  },
  {
   "cell_type": "markdown",
   "metadata": {},
   "source": [
    "If you Google `invalid syntax`, you end up in places that are not very helpful (try!), as this is a very common error that can arise from countless issues with your code. You could try to Google the entire `for i in range(0, 10: SyntaxError: invalid syntax` message (that actually sort of works, try!), but the best thing to do is, as it usually is the case with coding, to have a think. \n",
    "\n",
    "Python has been kind enough to tell us where the issue is within our code: it's in the \"for i in range(0, 10:\" line. That's a loop (more on that later...) but you don't even need to know that - just Google the relevant syntax, which in this case is `for i in range`. The first place I end up (every Google is different, so you may end up in a different place) is [this page](https://snakify.org/en/lessons/for_loop_range/), which tells you about loops and, importantly lets you know that we are in fact missing a parenthesis (a classic mistake - always ask yourselves whether you might have forgotten a parenthesis!)- our code should read..."
   ]
  },
  {
   "cell_type": "code",
   "execution_count": 4,
   "metadata": {},
   "outputs": [
    {
     "name": "stdout",
     "output_type": "stream",
     "text": [
      "0\n",
      "1\n",
      "8\n",
      "27\n",
      "64\n",
      "125\n",
      "216\n",
      "343\n",
      "512\n",
      "729\n"
     ]
    }
   ],
   "source": [
    "for i in range(0, 10):\n",
    "    print(i**3)"
   ]
  },
  {
   "cell_type": "markdown",
   "metadata": {},
   "source": [
    "This is a very simple/silly example, but the same holds for rather morencomplex issues as well. [Stack Overflow](https://stackoverflow.com/) is an excellent place to find answers about Python, as it is a community-based forum - who knows, maybe you'll get to help out a few people yourself in the near future!\n",
    "\n",
    "### Loops (Mind the gap!)\n",
    "\n",
    "Sadly, Python is quite picky when it comes to \"indentation\", i.e. the gaps that sometimes you must respect in order to not generate an error. The loop above provides an excellent example: you can see that the `print(i**3)` line does not start all the way to the left - in fact, there is a space corresponding to a single tab key. To exit the loop, you just return to type from the very left. For instance... "
   ]
  },
  {
   "cell_type": "code",
   "execution_count": 5,
   "metadata": {
    "scrolled": true
   },
   "outputs": [
    {
     "name": "stdout",
     "output_type": "stream",
     "text": [
      "0\n",
      "1\n",
      "8\n",
      "27\n",
      "64\n",
      "125\n",
      "216\n",
      "343\n",
      "512\n",
      "729\n",
      "I am out of the loop, now!\n"
     ]
    }
   ],
   "source": [
    "for i in range(0, 10):\n",
    "    print(i**3)\n",
    "print(\"I am out of the loop, now!\")"
   ]
  },
  {
   "cell_type": "markdown",
   "metadata": {},
   "source": [
    "Note: it is worth mentioning that Jupyter automatically inserts the tab indentation for you when you declare a loop."
   ]
  },
  {
   "cell_type": "markdown",
   "metadata": {},
   "source": [
    "### Nested loops\n",
    "\n",
    "Sometimes you need loops within loops - these are quite common (if incredibly slow, ask me about it if interested!) and are called \"nested loops\". It is quite easy, really, the only things to remember is to loop on different indexes (say, `i` for one loop, `j` for another loop) and to indent twice for the second loop. Here we go..."
   ]
  },
  {
   "cell_type": "code",
   "execution_count": 6,
   "metadata": {
    "scrolled": false
   },
   "outputs": [
    {
     "name": "stdout",
     "output_type": "stream",
     "text": [
      "0 0 0\n",
      "0 1 1\n",
      "1 0 1\n",
      "1 1 2\n",
      "I am out of the loop, now!\n"
     ]
    }
   ],
   "source": [
    "for i in range(0, 2):\n",
    "    for j in range (0, 2):\n",
    "        print(i, j, i+j)\n",
    "print(\"I am out of the loop, now!\")"
   ]
  },
  {
   "cell_type": "markdown",
   "metadata": {
    "hideCode": false,
    "hidePrompt": false
   },
   "source": [
    "<div class=warn>\n",
    "\n",
    "<h2>My first loop</h2>\n",
    "\n",
    "Let's calculate the gravitational force $F_g$ that attracts to bodies with masses $M$ and $m$:\n",
    "\n",
    "$$\n",
    "F_g= - \\frac{G \\cdot M \\cdot m}{r^2}\n",
    "$$\n",
    "\n",
    "In the equations above, $G=6.674 \\cdot 10^{-11}$ m$^{3}\\cdot$Kg$^{-1}\\cdot$s$\\cdot^{-2}$ is the so-called gravitational constant, while $r$ is the distance between said two bodies.\n",
    "\n",
    "* <b>Step 1</b>: Define the variable `G` to be equal to 6.674 $\\cdot 10^{-11}$.<br>\n",
    "* <b>Step 2</b>: Define the variable `M` to be equal to 1, and the variable `m` to be equal to 1/2.<br>\n",
    "* <b>Step 3</b>: Write a loop where the variable `j` goes from 1 to 20.<br>\n",
    "* <b>Step 4</b>: In the loop, define `r` as equal to `j` to the power of two. <br>\n",
    "* <b>Step 5</b>: Also in the loop, calculate $F_g$ according to the equation above, and print it at each iteration of the loop. <br>"
   ]
  },
  {
   "cell_type": "markdown",
   "metadata": {
    "hideCode": false,
    "hidePrompt": false
   },
   "source": [
    "<div class=warn>\n",
    "\n",
    "<h2>Homework</h2>\n",
    "\n",
    "Calculate the electrostatic force between a proton and an electron as a function of their distance (say, from 1 to 5 metres). Everything you need can be Googled!"
   ]
  },
  {
   "cell_type": "code",
   "execution_count": null,
   "metadata": {},
   "outputs": [],
   "source": []
  }
 ],
 "metadata": {
  "hide_code_all_hidden": false,
  "kernelspec": {
   "display_name": "Python 3",
   "language": "python",
   "name": "python3"
  },
  "language_info": {
   "codemirror_mode": {
    "name": "ipython",
    "version": 3
   },
   "file_extension": ".py",
   "mimetype": "text/x-python",
   "name": "python",
   "nbconvert_exporter": "python",
   "pygments_lexer": "ipython3",
   "version": "3.7.6"
  },
  "widgets": {
   "state": {
    "5adb609cb37c464dbde144ae46077fbd": {
     "views": [
      {
       "cell_index": 0
      }
     ]
    },
    "792df48b8c164530ba39af44f0f1427a": {
     "views": [
      {
       "cell_index": 0
      }
     ]
    },
    "b96cc2fc523e48daaa490b7721ad8648": {
     "views": [
      {
       "cell_index": 0
      }
     ]
    },
    "c1fa81841eee40c2a4a9f2315984c588": {
     "views": [
      {
       "cell_index": 0
      }
     ]
    }
   },
   "version": "1.2.0"
  }
 },
 "nbformat": 4,
 "nbformat_minor": 2
}
