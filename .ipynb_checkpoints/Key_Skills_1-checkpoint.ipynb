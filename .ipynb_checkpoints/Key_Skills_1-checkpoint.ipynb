{
 "cells": [
  {
   "cell_type": "code",
   "execution_count": 1,
   "metadata": {
    "hideCode": false,
    "hidePrompt": false
   },
   "outputs": [
    {
     "data": {
      "text/html": [
       "<script>\n",
       "code_show=true; \n",
       "function code_toggle() {\n",
       "    if (code_show){\n",
       "        $('div.cell.code_cell.rendered.selected div.input').hide();\n",
       "    } else {\n",
       "        $('div.cell.code_cell.rendered.selected div.input').show();\n",
       "    }\n",
       "    code_show = !code_show\n",
       "} \n",
       "$( document ).ready(code_toggle);\n",
       "</script>\n",
       "Some hidden code... to show/hide this cell's raw code input, click (or double click if stubborn!) <a href=\"javascript:code_toggle()\">here</a>."
      ],
      "text/plain": [
       "<IPython.core.display.HTML object>"
      ]
     },
     "metadata": {},
     "output_type": "display_data"
    },
    {
     "data": {
      "text/html": [
       "<style>\n",
       "div.warn {    \n",
       "    background-color: #b3b3ff;\n",
       "    border-color: #0000b3;\n",
       "    border-left: 5px solid #0000b3;\n",
       "    padding: 0.5em;\n",
       "    }\n",
       " </style>\n"
      ],
      "text/plain": [
       "<IPython.core.display.HTML object>"
      ]
     },
     "execution_count": 1,
     "metadata": {},
     "output_type": "execute_result"
    }
   ],
   "source": [
    "from IPython.display import HTML\n",
    "from IPython.display import display\n",
    "\n",
    "# Taken from https://stackoverflow.com/questions/31517194/how-to-hide-one-specific-cell-input-or-output-in-ipython-notebook\n",
    "tag = HTML('''<script>\n",
    "code_show=true; \n",
    "function code_toggle() {\n",
    "    if (code_show){\n",
    "        $('div.cell.code_cell.rendered.selected div.input').hide();\n",
    "    } else {\n",
    "        $('div.cell.code_cell.rendered.selected div.input').show();\n",
    "    }\n",
    "    code_show = !code_show\n",
    "} \n",
    "$( document ).ready(code_toggle);\n",
    "</script>\n",
    "Some hidden code... to show/hide this cell's raw code input, click (or double click if stubborn!) <a href=\"javascript:code_toggle()\">here</a>.''')\n",
    "display(tag)\n",
    "\n",
    "############### Write code below ##################\n",
    "from IPython.core.display import HTML\n",
    "def css_styling():\n",
    "    styles = open(\"./STUFF/colors.css\", \"r\").read()\n",
    "    return HTML(styles)\n",
    "css_styling()"
   ]
  },
  {
   "cell_type": "markdown",
   "metadata": {
    "hideCode": false,
    "hidePrompt": false
   },
   "source": [
    "# CH273: Key Skills 1\n",
    "\n",
    "## NVE vs NVT: a Pythonic Tale (Vol I)\n",
    "\n",
    "<img src=\"./STUFF/kb_1.jpg\" width=\"600\">\n",
    "\n",
    "In this session, we are going to compute ensamble averages within the microcanonical ensemble NVE - and compare our results with what we get by doing exactly the same thing in the canonical ensemble NVT. In order to do so, we are going to introduce the following basic concepts:\n",
    "\n",
    "- Importing packages in Python\n",
    "- Work with numpy arrays in Python\n",
    "- Plotting in Python"
   ]
  },
  {
   "cell_type": "markdown",
   "metadata": {
    "hideCode": false,
    "hidePrompt": false
   },
   "source": [
    "<div class=warn>\n",
    "These blue boxes contain instructions for you to follow, or stuff for you to do\n",
    "<h2>How to access this Jupyter notebook</h2>\n",
    "\n",
    "* <b>Step 1</b>: Open a web browser and go to [this page](https://rem123.csc.warwick.ac.uk:8987/module/CH273).<br>\n",
    "* <b>Step 2</b>: Enter your SCRTP username and password and press the \"Start Server\" button.<br>\n",
    "* <b>Step 3</b>: Wait (it could take a few minutes) until the blue blox says \"Jupyter notebook server running!\". At that point, click on the weblink below said message.<br>\n",
    "* <b>Step 4</b>: Select the Jupyter Notebook you want to work on. Remember to make a copy of the orginal notebook (which is read only). To do so, in the toolbar on top of the notebook, select File and then Make a Copy <br>\n",
    "* <b>Step 5</b>: You're all set! <br>\n",
    "* <b>Step 6</b>: <font color=\"red\">When you are done, remember to click the \"Stop Server\" button in the launcher web browser tab.</font> Please do, it's really quite important. <br>\n",
    "<b> Remember: </b> You can access your copy of the Notebook at any time from any device off and on campus by going through the same steps on e.g. your laptop - all the changes you have made will be saved and synced! <br>\n",
    "<div/>"
   ]
  },
  {
   "cell_type": "markdown",
   "metadata": {},
   "source": [
    "### Reminder: how to compute ensemble averages\n",
    "\n",
    "The following expression allows you to calculate an ensemble average of a given observable $\\mathcal{A}$ in whatever ensemble you like:\n",
    "\n",
    "$$\n",
    "\\mathcal{A} = \\langle \\mathcal{A} \\rangle = \\sum_{i=1}^{N} P_i \\cdot \\mathcal{A}_i,  \n",
    "$$\n",
    "\n",
    "where $P_i$ is the probability for the system to be in its i$-th$ state - mind you, $P_i$ *does* depend on the ensemble! In particular:\n",
    "\n",
    "$$\n",
    "P_i(NVE) = \\frac{1}{N} = \\frac{1}{Z(NVE)} \\\\\n",
    "P_i(NVT) = \\frac{e^{-\\beta E_i}}{\\sum_i^N e^{-\\beta E_i}} = \\frac{e^{-\\beta E_i}}{Q(NVT)}\n",
    "$$\n",
    "\n",
    "Let's suppose we are interested in computing the ensemble average of the total (i.e. kinetic + potential) energy $E$, as obtained from a molecular dynamics simulation of 215 water molecules:\n",
    "\n",
    "<img src=\"./STUFF/water_box.png\" width=\"600\">\n",
    "\n",
    "First things first, we have to read the data we need from a file (it's called \"md_data.dat\" and FYI can be found in the \"./STUFF\" subdirectory of the CH273 GitHub tree) into this Jupyter notebook. To do this, we are going to leverage a very popular Python package calld [numpy](https://numpy.org/): it is a very useful tool to handle numbers, and particularly arrays of numbers (more on that later!) in Python. How are we going to make this happen, I hear you ask..."
   ]
  },
  {
   "cell_type": "markdown",
   "metadata": {},
   "source": [
    "### Importing packages \n",
    "One beautiful truth about Python is that there exist countless chunks of code (from rather simple things to entire frameworks for machine learning!) that can be leveraged just be \"importing\" the corresponding \"package\". This is usually done at the very beginning of the Notebook, but let's give it a go now with numpy:"
   ]
  },
  {
   "cell_type": "code",
   "execution_count": 2,
   "metadata": {},
   "outputs": [],
   "source": [
    "import numpy as np"
   ]
  },
  {
   "cell_type": "markdown",
   "metadata": {},
   "source": [
    "Easy as that! The \"import\" keyword tells Python to import the numpy package. The \"as np\" syntax is because we are lazy: anytime we will be calling numpy from now on, we just need to call np as opposed to numpy. Not so essential in here, but some packages have horribly long names. Crucially, now that we have imported numpy, we have access to the very many functions that are available within this package. As a start, we are going to use the \"loadtxt\" function of numpy: this allows us to read the data in our \"md_data.dat\" file into the Jupyter Notebook:"
   ]
  },
  {
   "cell_type": "code",
   "execution_count": 3,
   "metadata": {},
   "outputs": [],
   "source": [
    "data = np.loadtxt('./STUFF/md_data.dat',skiprows=1)"
   ]
  },
  {
   "cell_type": "markdown",
   "metadata": {},
   "source": [
    "Here, we have stored the data contained in the \"md_data.dat\" file into a single object (it's actually a numpy array - more on that later!) called \"data\". Note that in order to call the \"loadtxt\" function we simply have to go for \"np.The_fuction_you_want_to_use>\". We are going to talk a bit more about functions in the next Key Skill session. For now, let also also note that we have told numpy to skip the first line via the \"skiprows=1\" argument, as that line contains a header (not data!). Where do I get this information from? Google, folks, it's lways google. Try to google \"numpy read text file\" and see for yourself (and yes, there are *many* other ways to do it!)"
   ]
  },
  {
   "cell_type": "markdown",
   "metadata": {
    "hideCode": false,
    "hidePrompt": false
   },
   "source": [
    "<div class=warn>\n",
    "\n",
    "<h2> Pandas and Seaborn </h2>\n",
    "\n",
    "Believe it or not, these oddly named packages are very popular options to deal with fancy plots and data frames. Let's try to use them to obtain a cool-looking density plot of our molecular dynamics data in terms of temperature and pressure.\n",
    "\n",
    "- **Step 1**: import pandas as pd and seaborn as sns\n",
    "- **Step 2**: run the following code:\n",
    "\n",
    "```%matplotlib inline \n",
    "import matplotlib\n",
    "import matplotlib.pyplot as plt\n",
    "data_df = pd.DataFrame(data)\n",
    "data_df = data_df.iloc[10:]\n",
    "plt.figure(figsize=(8,6), dpi= 80, facecolor='w', edgecolor='k') \n",
    "plt.tick_params(axis='both', which='major', labelsize=20)\n",
    "plt.tick_params(axis='both', which='minor', labelsize=20)\n",
    "sns.kdeplot(data_df.iloc[:,2], data_df.iloc[:,3], shade=True, cmap=\"Blues\", cbar=True)\n",
    "plt.xlabel('Temperature [K]', fontsize=16)\n",
    "plt.ylabel('Pressure [bar]', fontsize=16)\n",
    "plt.show()```"
   ]
  },
  {
   "cell_type": "markdown",
   "metadata": {},
   "source": [
    "Ok, so now that we have our data, let's have a look at them. The \"print\" function can always help, and it is very good practice to print stuff often, to check that everything is alright with your coding."
   ]
  },
  {
   "cell_type": "code",
   "execution_count": 4,
   "metadata": {},
   "outputs": [
    {
     "name": "stdout",
     "output_type": "stream",
     "text": [
      "[[ 1.00000000e-01 -1.03020000e+00  4.19617800e+00 -1.57635059e+03]\n",
      " [ 2.00000000e-01 -1.10679000e+00  1.83750580e+02 -2.38131787e+03]\n",
      " [ 3.00000000e-01 -1.10093000e+00  1.98862427e+02 -2.19553540e+03]\n",
      " ...\n",
      " [ 9.98000000e+01 -1.02698000e+00  3.09688721e+02 -3.86067230e+02]\n",
      " [ 9.99000000e+01 -1.01869000e+00  2.89386047e+02  6.15468079e+02]\n",
      " [ 1.00000000e+02 -1.03247000e+00  3.06726837e+02 -9.97725220e+01]]\n"
     ]
    }
   ],
   "source": [
    "print(data)"
   ]
  },
  {
   "cell_type": "markdown",
   "metadata": {},
   "source": [
    "Apparently, we have four columns ad quite a few lines - so many, in fact, that Python refuses to print them all. We can make a more detailed enquire about the shape of our data by useing the \"shape\" function:"
   ]
  },
  {
   "cell_type": "code",
   "execution_count": 5,
   "metadata": {},
   "outputs": [
    {
     "data": {
      "text/plain": [
       "(1000, 4)"
      ]
     },
     "execution_count": 5,
     "metadata": {},
     "output_type": "execute_result"
    }
   ],
   "source": [
    "data.shape"
   ]
  },
  {
   "cell_type": "markdown",
   "metadata": {},
   "source": [
    "That's great. However, in many cases we need to access a specific element, or a specific sets of elements, from an object like \"data\". For instance, we might want to access the first two elements of the third column - this is how it's done:"
   ]
  },
  {
   "cell_type": "code",
   "execution_count": 6,
   "metadata": {},
   "outputs": [
    {
     "name": "stdout",
     "output_type": "stream",
     "text": [
      "[  4.196178 183.75058 ]\n"
     ]
    }
   ],
   "source": [
    "print(data[0:2,2])"
   ]
  },
  {
   "cell_type": "markdown",
   "metadata": {},
   "source": [
    "Confused? That's because in order to deal with blocks of data we first have to understand arrays. Here we go..."
   ]
  },
  {
   "cell_type": "markdown",
   "metadata": {},
   "source": [
    "### Arrays\n",
    "In many cases, we would love to store some numbers (such as the molecular dynamics data we are dealing with) in a single object (such as the \"data\" object above). This is easily done by using either arrays or lists. Arrays are better when dealing with numbers, so we'll stick to those for the time being. Luckily enough, numpy is here to help: there are arrays and numpy arrays; the latter are better, because you can use numpy to perform a lot of interesting operations with them in no time. The first thing you have to do with a numpy array is to declare/initialise it:"
   ]
  },
  {
   "cell_type": "code",
   "execution_count": 7,
   "metadata": {},
   "outputs": [
    {
     "name": "stdout",
     "output_type": "stream",
     "text": [
      "[0. 0. 0. 0. 0. 0. 0. 0. 0. 0.]\n",
      "[]\n"
     ]
    }
   ],
   "source": [
    "# If you know how many elements should be contained in your numpy array, say, 10...\n",
    "array_1 = np.zeros(10)\n",
    "print(array_1) # always good to print stuff to make sure you are doing the right thing!\n",
    "\n",
    "# If you don't really know how many elements you want in your array, no problem...\n",
    "array_2 = np.array([])\n",
    "print(array_2)"
   ]
  },
  {
   "cell_type": "markdown",
   "metadata": {},
   "source": [
    "So: we have stored in an array object called \"array_1\" the result of \"np.zeros(10)\". \"np.zeros\" calls the function \"zeros\", one of the very many available when using numpy - which we call \"np\" in here, remember? If you specify a number (10 in the example above) your array will contain that many elements, all of them initialised to zero. If you don't know how many elements you want your array to be, the syntax is slighty different, and uses the \"array\" function of numpy to actually transform the empty list [] into a numpy array of unknown length. Ok, now let's populate our array!"
   ]
  },
  {
   "cell_type": "code",
   "execution_count": 8,
   "metadata": {},
   "outputs": [
    {
     "name": "stdout",
     "output_type": "stream",
     "text": [
      "[ 0.  0. 30.  0.  0.  0.  0.  0.  0.  0.]\n"
     ]
    }
   ],
   "source": [
    "array_1[2] = 30\n",
    "print(array_1)"
   ]
  },
  {
   "cell_type": "markdown",
   "metadata": {},
   "source": [
    "Accessing a single element of a numpy array is easy, you just specify the index you want in between [] brackets - but remember, indexing starts from 0, not 1!\n",
    "\n",
    "The \"data\" array we are dealing with, though, has two dimensions, in that it has rows and columns. In that case, you can access the element in column $i$ and row $j$ as [i,j], that is:"
   ]
  },
  {
   "cell_type": "code",
   "execution_count": 9,
   "metadata": {},
   "outputs": [
    {
     "data": {
      "text/plain": [
       "-63.852051"
      ]
     },
     "execution_count": 9,
     "metadata": {},
     "output_type": "execute_result"
    }
   ],
   "source": [
    "data[7,3]"
   ]
  },
  {
   "cell_type": "markdown",
   "metadata": {},
   "source": [
    "This gives you the element in the sixth row and second column. What about accessing a certain range of elements? Say, rows from 4 to 10 within th 1st and 4th column:"
   ]
  },
  {
   "cell_type": "code",
   "execution_count": 10,
   "metadata": {},
   "outputs": [
    {
     "data": {
      "text/plain": [
       "array([[ 4.00000000e-01, -9.30815735e+02],\n",
       "       [ 5.00000000e-01, -1.56255176e+03],\n",
       "       [ 6.00000000e-01, -9.66629395e+02],\n",
       "       [ 7.00000000e-01, -1.18484448e+03],\n",
       "       [ 8.00000000e-01, -6.38520510e+01],\n",
       "       [ 9.00000000e-01, -4.35344330e+02],\n",
       "       [ 1.00000000e+00,  1.44725854e+03]])"
      ]
     },
     "execution_count": 10,
     "metadata": {},
     "output_type": "execute_result"
    }
   ],
   "source": [
    "data[3:10,[0,3]]"
   ]
  },
  {
   "cell_type": "markdown",
   "metadata": {},
   "source": [
    "Here, we have specified a contiguous range of rows (from 3 to 10) via the \":\" operator. Note that the \":\" operator alone retrieves all columns or rows. In order to select non contiguous columns (1st and 4th) instead we had to add another [] and separate the indexes via a \",\". For instance, to get the first rows and all the columns..."
   ]
  },
  {
   "cell_type": "code",
   "execution_count": 11,
   "metadata": {},
   "outputs": [
    {
     "data": {
      "text/plain": [
       "array([ 1.00000000e-01, -1.03020000e+00,  4.19617800e+00, -1.57635059e+03])"
      ]
     },
     "execution_count": 11,
     "metadata": {},
     "output_type": "execute_result"
    }
   ],
   "source": [
    "data[0,:]"
   ]
  },
  {
   "cell_type": "markdown",
   "metadata": {},
   "source": [
    "Once more, do remember that in Python (and C++ as well, and a few others...) the indexing of arrays starts from 0, not 1. So, the 1st element of your array is actually indexed as 0, not 1. hence, \"[0,:]\" correspond to the first row! Yes, yes, very confusing - you'll get used to it!"
   ]
  },
  {
   "cell_type": "markdown",
   "metadata": {
    "hideCode": false,
    "hidePrompt": false
   },
   "source": [
    "<div class=warn>\n",
    "\n",
    "<h2> Playing with Arrays </h2>\n",
    "\n",
    "- **Step 1**: Create a numpy array ar_A that contains 100 random numbers\n",
    "- **Step 2**: Create a numpy array ar_B that contains 100 random numbers\n",
    "- **Step 3**: Extract the first 10 elements from ar_A - and save them into another array ar_AA. Do the same for ar_B (saving into ar_BB) but extract the last 10 elements in this case.\n",
    "- **Step 4**: Calculate the scalar product of ar_AA and ar_BB"
   ]
  },
  {
   "cell_type": "markdown",
   "metadata": {},
   "source": [
    "### Plots & Graphs"
   ]
  },
  {
   "cell_type": "markdown",
   "metadata": {},
   "source": [
    "So, 1000 lines, 4 columns. What's in each column? This information is in the header (which we have told \"loadtxt\" to skip!), so we are going to use the following trick (I Googled it!) to have a look..."
   ]
  },
  {
   "cell_type": "code",
   "execution_count": 12,
   "metadata": {},
   "outputs": [
    {
     "name": "stdout",
     "output_type": "stream",
     "text": [
      "# Time [ps] | E_Tot [kJ/mol] | T [K] | P [bar\n",
      "\n"
     ]
    }
   ],
   "source": [
    "infile = open('./STUFF/md_data.dat', 'r')\n",
    "firstLine = infile.readline()\n",
    "print(firstLine)"
   ]
  },
  {
   "cell_type": "markdown",
   "metadata": {},
   "source": [
    "First column is time, in ps - this is molecular dynamics simulation after all! Then, we have the total energy of the system in kJ/mol, followed by temperature and pressure (K and bar, respectively). Each line reports the time, energy, temperature and pressure corresponding to a particular frame along our molecular dynamics trajectory. Our goal is to compute the ensemble average of $E_{Tot}$, so let's have a look at it. In ordert to generate a plot, we are going to import another very popular package called matplotlib:"
   ]
  },
  {
   "cell_type": "code",
   "execution_count": 13,
   "metadata": {},
   "outputs": [],
   "source": [
    "# weird-looking line... Google it if you so wish ;)\n",
    "%matplotlib inline \n",
    "\n",
    "# importing matplotlib\n",
    "import matplotlib\n",
    "\n",
    "# impotting a set of fancy functionalities within matplotlib\n",
    "import matplotlib.pyplot as plt"
   ]
  },
  {
   "cell_type": "code",
   "execution_count": 14,
   "metadata": {
    "scrolled": true
   },
   "outputs": [
    {
     "data": {
      "image/png": "[encoded data removed]",
      "text/plain": [
       "<Figure size 640x640 with 1 Axes>"
      ]
     },
     "metadata": {},
     "output_type": "display_data"
    }
   ],
   "source": [
    "# Let's plot the energy vs time\n",
    "\n",
    "# figsize determine the actual size of the figure\n",
    "plt.figure(figsize=(8,8), dpi= 80, facecolor='w', edgecolor='k') \n",
    "\n",
    "# The data to be plotted - using arrays!\n",
    "plt.plot(data[:,0], data[:,1],linewidth=2.5)\n",
    "\n",
    "# Labeling of x and y axes\n",
    "plt.xlabel('Time [ps]',fontsize=16)\n",
    "plt.ylabel('Total energy [kj/mol]',fontsize=16)\n",
    "\n",
    "# Bigger labels is better!\n",
    "plt.tick_params(axis='both', which='major', labelsize=14)\n",
    "plt.tick_params(axis='both', which='minor', labelsize=14)\n",
    "\n",
    "axes = plt.gca()\n",
    "\n",
    "# If you want to limit the plotting to a specific x or y range...\n",
    "# axes.set_xlim([0,100])\n",
    "# axes.set_ylim([0,100])\n",
    "\n",
    "# Show the final result\n",
    "plt.show()"
   ]
  },
  {
   "cell_type": "markdown",
   "metadata": {},
   "source": [
    "Our simulation is 100 ps long, and as you can see, the energy oscillates wildly before levelling toward a fairly constant value (you can ask me why later!). This is an NVT simulation, so we are not expecting the energy to be constant (remember fluctuations are *always* there, though, even in NVE!), but in a \"good\" NVT simulation energy conservation should still be a reality. "
   ]
  },
  {
   "cell_type": "markdown",
   "metadata": {},
   "source": [
    "### Computing the ensemble average of E in the NVE ensemble\n",
    "\n",
    "We shouldn't be doing this - as the data refer to an NVT simulation! - but let's go for it anyway and see what happens. In order to compute the ensemble average of the energy within the NVE ensemble, we use the following expression: \n",
    "\n",
    "$$\n",
    "E   = \\langle E_{NVE} \\rangle = \\frac{1}{\\Omega(NVE)}\\sum_{i=1}^{N}E_i \\\\\n",
    "                            = \\frac{1}{N}\\sum_{i=1}^{N}E_i\n",
    "$$\n",
    "\n",
    "A simple loop should do it..."
   ]
  },
  {
   "cell_type": "code",
   "execution_count": 15,
   "metadata": {},
   "outputs": [
    {
     "name": "stdout",
     "output_type": "stream",
     "text": [
      "-1.0276723800000003 [kJ/mol]\n"
     ]
    }
   ],
   "source": [
    "N = len(data) # \"len\" tells you how many rows you have in your \"data\" array\n",
    "\n",
    "E_nve = 0.0 # As we are doing a summation, we should initialise the value of the energy to zero\n",
    "\n",
    "for i in range(1, N): # Loop over all the energies\n",
    "    E_nve = E_nve + data[i,1] # data[i,1] retrieves the energy in the i-th row\n",
    "                              # at each step of the loop, we accumulate the summation over E_nve\n",
    "E_nve = E_nve/N # Out of the loop, we divide by N\n",
    "\n",
    "print(E_nve, \"[kJ/mol]\") # Let's print the result"
   ]
  },
  {
   "cell_type": "markdown",
   "metadata": {
    "hideCode": false,
    "hidePrompt": false
   },
   "source": [
    "<div class=warn>\n",
    "\n",
    "<h2>The NVT case </h2>\n",
    "\n",
    "- Compute the ensemble average of the energy within the NVT ensemble. Use the following expression:\n",
    "\n",
    "$$\n",
    "E = \\langle E_{NVT} \\rangle = \\frac{1}{Q(NVT)}\\sum_{i=1}^{N}e^{-\\beta E_i}E_i \\\\\n",
    "                            = \\frac{1}{\\sum_{i=1}^{N}e^{-\\beta E_i}}\\sum_{i=1}^{N}e^{-\\beta E_i}E_i\n",
    "$$\n",
    "\n",
    "- Compare your result with what we have previously obtained working in the NVE ensemble\n",
    "\n",
    "Everything you need can be Googled!"
   ]
  },
  {
   "cell_type": "markdown",
   "metadata": {
    "hideCode": false,
    "hidePrompt": false
   },
   "source": [
    "<div class=warn>\n",
    "\n",
    "<h2> Homework </h2>\n",
    "\n",
    "Compute the extent of energy fluctuations with respect to our data - in terms of e.g. its variance. Everything you need can be Googled!"
   ]
  }
 ],
 "metadata": {
  "hide_code_all_hidden": false,
  "kernelspec": {
   "display_name": "Python 3",
   "language": "python",
   "name": "python3"
  },
  "language_info": {
   "codemirror_mode": {
    "name": "ipython",
    "version": 3
   },
   "file_extension": ".py",
   "mimetype": "text/x-python",
   "name": "python",
   "nbconvert_exporter": "python",
   "pygments_lexer": "ipython3",
   "version": "3.6.7"
  },
  "widgets": {
   "state": {
    "5adb609cb37c464dbde144ae46077fbd": {
     "views": [
      {
       "cell_index": 0
      }
     ]
    },
    "792df48b8c164530ba39af44f0f1427a": {
     "views": [
      {
       "cell_index": 0
      }
     ]
    },
    "b96cc2fc523e48daaa490b7721ad8648": {
     "views": [
      {
       "cell_index": 0
      }
     ]
    },
    "c1fa81841eee40c2a4a9f2315984c588": {
     "views": [
      {
       "cell_index": 0
      }
     ]
    }
   },
   "version": "1.2.0"
  }
 },
 "nbformat": 4,
 "nbformat_minor": 2
}
