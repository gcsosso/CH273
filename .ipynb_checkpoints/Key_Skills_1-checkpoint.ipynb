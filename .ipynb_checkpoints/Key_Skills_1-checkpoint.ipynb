{
 "cells": [
  {
   "cell_type": "markdown",
   "metadata": {},
   "source": [
    "# CH273: Key Skills 1\n",
    "## The Ergodic Principle: a Pythonic Tale\n",
    "\n",
    "In this session, we are going to play around with the ergodic principle, a key concept in statistical mechanics. To this end, we will use some computational tools, most notably..."
   ]
  },
  {
   "cell_type": "markdown",
   "metadata": {},
   "source": [
    "### Jupyter notebooks\n",
    "\n",
    "<img src=\"./jn_logo.png\" width=\"300\">\n",
    "\n",
    "**This!** is actually a Jupyter notebook! It allows you to:\n",
    "\n",
    "- Write down some text\n",
    "- Write computer programs using a number of languages: we are going to use Python\n",
    "- Visualize the outcome of your calculations\n",
    "- Take advantage of powerful computational tools\n",
    "\n",
    "All of this in one place! First things first..."
   ]
  },
  {
   "cell_type": "markdown",
   "metadata": {},
   "source": [
    "## How to access this Jupyter notebook\n",
    "\n",
    "How to - to be done!"
   ]
  },
  {
   "cell_type": "markdown",
   "metadata": {},
   "source": [
    "## Right... but what - is - a Jupyter notebook exactly?\n",
    "A Jupyter notebook is a collection of \"cells\" - blocks within which we can e.g. write down an equation or plot a function. We will use \"Markdown cells\" to write down text and equations, and \"Code cells\" to do everything else. Cells can be inserted (and copied, and pasted, and cut!) via the toolbar above. Once we are happy with the content of a given cell, we have to \"Run\" it - to execute it, by holding the shift key and hitting the enter/return key. The Jupyter notebook will take care of running the cell, and let us know if everything is ok. You can also run a cell, or indeed all the cells in a notebook, via the same toolbar above. Let's have a look at Markdown and Code cells, then..."
   ]
  },
  {
   "cell_type": "markdown",
   "metadata": {},
   "source": [
    "### This is a Markdown cell\n",
    "Thus, we can write into it! To edit the cell, a double click of the mouse should do.\n",
    "We can play around with **bold text**, *italic text*, \n",
    "# Big Headings, \n",
    "## Small Headings, \n",
    "### Tiny Headings,\n",
    "and much more. Importantly, we can also write down equations using LaTeX syntax:\n",
    "\n",
    "$$\n",
    "A_{\\text{Macroscopic}}=\\langle a_{\\text{Microscopic}} \\rangle_{\\text{NVE}}=\\frac{1}{N}\\sum_{i=1}^{N}a_i\n",
    "$$\n",
    "\n",
    "Remember, LaTeX may look daunting at the beginning, but it is the best documented markup language in the world, and after a little while it becomes natural. In fact, journal articles and books are ultimately *all* typesetted in LaTeX!"
   ]
  },
  {
   "cell_type": "code",
   "execution_count": 1,
   "metadata": {},
   "outputs": [
    {
     "name": "stdout",
     "output_type": "stream",
     "text": [
      "This is a Code cell\n"
     ]
    }
   ],
   "source": [
    "string = \"This is a Code cell\"\n",
    "print(string) "
   ]
  },
  {
   "cell_type": "markdown",
   "metadata": {},
   "source": [
    "### Wait, what happened?\n",
    "In the cell above, we actually used some Python already! We did two things:\n",
    "\n",
    "- 1. We have stored some text (**This is a code cell**) into a *variable* we have called **string**\n",
    "- 2. We have printed the variable **string**"
   ]
  },
  {
   "cell_type": "markdown",
   "metadata": {},
   "source": [
    "## P is for Python!\n",
    "What's Python anyway? It's a programming language - one of many, such as C++ or Fortran. It is especially popular these days, mostly because there exist a phenomenal amount of Python libraries (or packages, or modules...) out there that can be harnessed for free. These can in turn be used to do all sort of interesting things, from machine learning for drug design to stock market analysis. This is the reason why a decent knowledge of Python is now often indicated as a desirable (transferable!) skill when interviewing for jobs in Pharma companies and finance alike.\n",
    "<img src=\"./python_logo.png\" width=\"300\">"
   ]
  },
  {
   "cell_type": "markdown",
   "metadata": {},
   "source": [
    "Great - now that we know everything about Python, Jupyter Notebooks, Markdown and Code cells, we have what we need to make a start..."
   ]
  },
  {
   "cell_type": "markdown",
   "metadata": {},
   "source": [
    "# The Ergodic Principle\n",
    "\n",
    "In the previous lecture we have seen that in order to estimate the value of a certain macroscopic quantity, such as the temperature $\\mathcal{T}$ of a system, we can calculate an *ensemble average* of the temperature of several (the more the better!) microscopic configuration of the same system. Assuming we are working in a microcanonical ensemble $NVE$ with $N$ microscopic configurations (each one characterised by a certain temperature $T_i$), we have:\n",
    "\n",
    "$$\n",
    "\\mathcal{T}=\\langle T \\rangle_{\\text{NVE}}=\\frac{1}{N}\\sum_{i=1}^{N} T_i\n",
    "$$\n",
    "\n",
    "However, we have also seen that the outcome of molecular dynamics simulations (one of the most common computational tools to explore the phase space!) consist in a *trajectory* - that is, a collection of configurations of *the same* microscopic configuration propagated in time. But then, what do we do with it? Luckily, if we assume that we have run our simulation long enough for that particular configuration to have explored the whole of the phase space accessible to the system, then we can apply the so-called **ergodic principle**:\n",
    "\n",
    "$$\n",
    "\\mathcal{T}=\\langle T \\rangle_{\\text{NVE}}=\\frac{1}{N}\\sum_{i=1}^{N} T_i = \\lim_{t\\to\\infty}\\int_0^t T_i \\ dt'\n",
    "$$\n",
    "\n",
    "That is, if the system has explored in time the entire phase space, then *we can take a time average instead of an ensemble average*. Note that the time average in the equation above is expressed in the form of an integral. In molecular dynamics, though, time is not continuous - it is discrete, in that we evolve the system in time via subsequent *timesteps* $\\Delta t$, i.e. small time windows. In addition, at a certain point (after $N_{\\Delta t}$ timestpes) a molecular dynamics run will have to stop, so that we cannot explore the phase space indefinitely. Thus, we write:\n",
    "\n",
    "$$\n",
    "\\mathcal{T}=\\langle T \\rangle_{\\text{NVE}}=\\frac{1}{N}\\sum_{i=1}^{N} T_i = \\frac{1}{N_{\\Delta t}\\cdot\\Delta t}\\sum_{j=1}^{N_{\\Delta t}} T(\\Delta t_j)\n",
    "$$\n",
    "\n",
    "Is this actually true? We are about to find out!"
   ]
  },
  {
   "cell_type": "markdown",
   "metadata": {},
   "source": [
    "### Ensemble average\n",
    "We start by looking at the temperature of ten different microscopic configurations of the same systems (a box containing 2000 water molecules). Just ten? Yes, because in order to generate them, I had to run ten different, *statistically independent* molecular dynamics simulations. Now, these temperatures are stored in a file, \"temperature_ensemble.dat\" which contains to columns: the first column is just an index (1, 2... 10), the second one contains the temperatures we are interested in. Time to code..."
   ]
  },
  {
   "cell_type": "code",
   "execution_count": 2,
   "metadata": {},
   "outputs": [
    {
     "name": "stdout",
     "output_type": "stream",
     "text": [
      "[[  1.   295.23]\n",
      " [  2.   302.42]\n",
      " [  3.   302.61]\n",
      " [  4.   289.72]\n",
      " [  5.   303.2 ]\n",
      " [  6.   301.55]\n",
      " [  7.   302.1 ]\n",
      " [  8.   292.39]\n",
      " [  9.   295.12]\n",
      " [ 10.   297.61]]\n"
     ]
    }
   ],
   "source": [
    "# This is a comment - the # tells Python to just ignore whatever follows\n",
    "\n",
    "# First things first, we are going to \"take advantage of powerful computational tools\"\n",
    "# Specifically, we are going to \"import\" the numpy lubrary - an incredibly useful set of of Pythonic tools\n",
    "# that will save us a lot of time when dealing with numbers. off we go...\n",
    "\n",
    "import numpy as np # All set! We can now use numpy, and because we are lazy, each time we use it \n",
    "                   # we are going to call it via \"np\" as opposed to \"numpy\n",
    "\n",
    "# We store the name of the file we want to read (temperature_ensemble.dat) into a variable (file_name_ensemble):\n",
    "file_name_ensemble = \"temperature_ensemble.dat\"\n",
    "\n",
    "\n",
    "# We use the \"loadtxt\" tool provided by numpy (which we have called by \"np.loadtxt\") to read \n",
    "# the whole content of the file into the variable t_ensemble\n",
    "t_ensemble = np.loadtxt(file_name_ensemble)\n",
    "\n",
    "\n",
    "# Let's have a look at the \"t_ensemble\" variable:\n",
    "print(t_ensemble)"
   ]
  },
  {
   "cell_type": "code",
   "execution_count": 3,
   "metadata": {},
   "outputs": [
    {
     "name": "stdout",
     "output_type": "stream",
     "text": [
      "[ 1.  2.  3.  4.  5.  6.  7.  8.  9. 10.]\n"
     ]
    }
   ],
   "source": [
    "# What did we do? Well, it turns out the \"t_ensemble\" variable is actually a two-dimensional array!\n",
    "# No need to panic, though. We can actually select just the first column of it:\n",
    "print(t_ensemble[:,0])"
   ]
  },
  {
   "cell_type": "code",
   "execution_count": 4,
   "metadata": {},
   "outputs": [
    {
     "name": "stdout",
     "output_type": "stream",
     "text": [
      "302.61\n"
     ]
    }
   ],
   "source": [
    "# Wait, what? Well, in order to access a certain element of an array, we use the following syntax:\n",
    "# name_of_the_array[index of the row, index of the column]\n",
    "\n",
    "# In the example above, \":\" means \"use the whole column\", while \"0\" actually stands for the first column\n",
    "# Why? Because in Python the numbering of the array elements starts from zero, not from one!\n",
    "# For example, in order to access the third element of the second column of \"t_ensemble\"...\n",
    "print(t_ensemble[2,1])"
   ]
  },
  {
   "cell_type": "code",
   "execution_count": 5,
   "metadata": {},
   "outputs": [
    {
     "name": "stdout",
     "output_type": "stream",
     "text": [
      "298.19500000000005\n"
     ]
    }
   ],
   "source": [
    "# Great! In order to compute the temperature as an ensemble average from these data, then, we just sum the elements \n",
    "# in the second column of \"t_ensemble\", and then divide the result by ten. This is one way to do it:\n",
    "ensemble_average=np.sum(t_ensemble[:,1])/len(t_ensemble[:,1])\n",
    "print(ensemble_average)\n",
    "\n",
    "# We have used the \"sum\" tool of numpy (which we have called by \"np.sum\") to sum all the elements in\n",
    "# the second column of \"t_ensemble\". We have also divided by ten, i.e. the length of \"t_ensemble\" which\n",
    "# we have extracted via the \"len\" command. "
   ]
  },
  {
   "cell_type": "code",
   "execution_count": 6,
   "metadata": {
    "scrolled": true
   },
   "outputs": [
    {
     "data": {
      "image/png": "[encoded data removed]",
      "text/plain": [
       "<Figure size 640x320 with 1 Axes>"
      ]
     },
     "metadata": {},
     "output_type": "display_data"
    }
   ],
   "source": [
    "# Now, can we have a look at the data - and at the ensemble average we have just calculated, please?\n",
    "# Of course we can! We start by importing another very useful set of tools: matplotlib,\n",
    "# which can plot basically everything you want in whatever fashion you like!\n",
    "\n",
    "# The following two lines have to do with formatting figures nicely...\n",
    "%matplotlib notebook \n",
    "%matplotlib inline \n",
    "import matplotlib.pyplot as plt\n",
    "\n",
    "\n",
    "plt.figure(figsize=(8, 4), dpi= 80, facecolor='w', edgecolor='k') # figsize determine the actual size of the figure\n",
    "plt.plot((1, 10), (ensemble_average, ensemble_average), 'k-') # Draw a line indicating the ensemble average\n",
    "\n",
    "# Plot the temperature\n",
    "plt.plot(t_ensemble[:,0], t_ensemble[:,1], 'o', markerfacecolor='orange', markersize=12, markeredgecolor='blue', \n",
    "         linewidth=2.5)\n",
    "\n",
    "# Labeling of x and y axes\n",
    "plt.xlabel('Configuration n.',fontsize=14)\n",
    "plt.ylabel('Temperature [K]',fontsize=14)\n",
    "\n",
    "# Show the final result\n",
    "plt.show()"
   ]
  },
  {
   "cell_type": "markdown",
   "metadata": {},
   "source": [
    "### Time average\n",
    "Now, we shall compute the *time* average of the temperature along a molecular dynamics trajectory. Speaking of which, why not having a look at that as well?"
   ]
  },
  {
   "cell_type": "code",
   "execution_count": 16,
   "metadata": {},
   "outputs": [],
   "source": [
    "# we need some more libraries here!\n",
    "\n",
    "import warnings\n",
    "warnings.filterwarnings('ignore') # make the notebook nicer\n",
    "from __future__ import print_function\n",
    "\n",
    "import pytraj as pt\n",
    "import nglview as nv\n",
    "\n",
    "#print(\"nglview version = {}\".format(nv.__version__))\n",
    "#print(\"pytraj version = {}\".format(pt.__version__))"
   ]
  },
  {
   "cell_type": "code",
   "execution_count": 17,
   "metadata": {},
   "outputs": [
    {
     "data": {
      "text/plain": [
       "pytraj.Trajectory, 251 frames: \n",
       "Size: 0.044882 (GB)\n",
       "<Topology: 8000 atoms, 2000 residues, 2000 mols, PBC with box type = ortho>\n",
       "           "
      ]
     },
     "execution_count": 17,
     "metadata": {},
     "output_type": "execute_result"
    }
   ],
   "source": [
    "# Load the trajectory and the structure, xtc and pdb format respectively\n",
    "p_traj = pt.load('./trj.xtc', top='./water.pdb')\n",
    "p_traj"
   ]
  },
  {
   "cell_type": "code",
   "execution_count": 23,
   "metadata": {},
   "outputs": [
    {
     "data": {
      "application/vnd.jupyter.widget-view+json": {
       "model_id": "c36930a460ff4a4a92a3bd6ca50a29c0",
       "version_major": 2,
       "version_minor": 0
      },
      "text/plain": [
       "NGLWidget(count=251)"
      ]
     },
     "metadata": {},
     "output_type": "display_data"
    }
   ],
   "source": [
    "p_view = nv.show_pytraj(p_traj)\n",
    "#p_view.clear\n",
    "p_view.add_representation('ball+stick', selection='all')\n",
    "#p_view.add_unitcell()\n",
    "#p_view.displayed=True\n",
    "p_view.parameters = {\"backgroundColor\": \"white\"}\n",
    "p_view.center()\n",
    "p_view"
   ]
  },
  {
   "cell_type": "markdown",
   "metadata": {},
   "source": [
    "**Note** that the system is exactly the same as above (a box containing 2000 water molecules), but in this case we are going to look at how exactly the temperature changes in time - as opposed to taking an ensemble average"
   ]
  },
  {
   "cell_type": "code",
   "execution_count": 24,
   "metadata": {},
   "outputs": [
    {
     "data": {
      "image/png": "[encoded data removed]",
      "text/plain": [
       "<Figure size 640x320 with 1 Axes>"
      ]
     },
     "metadata": {},
     "output_type": "display_data"
    }
   ],
   "source": [
    "# Load the data: time and temperature, ps and K, respectively\n",
    "file_name_MD = \"temperature_MD.dat\" \n",
    "t_MD = np.loadtxt(file_name_MD)\n",
    "\n",
    "# Plot\n",
    "plt.figure(figsize=(8, 4), dpi= 80, facecolor='w', edgecolor='k') # figsize determine the actual size of the figure\n",
    "plt.plot(t_MD[:,0], t_MD[:,1])\n",
    "# Labeling of x and y axes\n",
    "plt.xlabel('Time [ps]',fontsize=14)\n",
    "plt.ylabel('Temperature [K]',fontsize=14)\n",
    "\n",
    "plt.show()"
   ]
  },
  {
   "cell_type": "code",
   "execution_count": 26,
   "metadata": {},
   "outputs": [
    {
     "name": "stdout",
     "output_type": "stream",
     "text": [
      "299.8967474223108\n"
     ]
    }
   ],
   "source": [
    "# Calculate the time average\n",
    "time_average=np.sum(t_MD[:,1])/len(t_MD[:,1])\n",
    "print(time_average)"
   ]
  },
  {
   "cell_type": "code",
   "execution_count": 28,
   "metadata": {},
   "outputs": [
    {
     "data": {
      "text/plain": [
       "1.7017474223107456"
      ]
     },
     "execution_count": 28,
     "metadata": {},
     "output_type": "execute_result"
    }
   ],
   "source": [
    "# Calculate the difference between ensemble and time average\n",
    "abs(ensemble_average-time_average)"
   ]
  },
  {
   "cell_type": "code",
   "execution_count": null,
   "metadata": {},
   "outputs": [],
   "source": [
    "# Energy Fluctuations?"
   ]
  }
 ],
 "metadata": {
  "kernelspec": {
   "display_name": "Python 3",
   "language": "python",
   "name": "python3"
  },
  "language_info": {
   "codemirror_mode": {
    "name": "ipython",
    "version": 3
   },
   "file_extension": ".py",
   "mimetype": "text/x-python",
   "name": "python",
   "nbconvert_exporter": "python",
   "pygments_lexer": "ipython3",
   "version": "3.6.6"
  },
  "widgets": {
   "state": {
    "5adb609cb37c464dbde144ae46077fbd": {
     "views": [
      {
       "cell_index": 0
      }
     ]
    },
    "792df48b8c164530ba39af44f0f1427a": {
     "views": [
      {
       "cell_index": 0
      }
     ]
    },
    "b96cc2fc523e48daaa490b7721ad8648": {
     "views": [
      {
       "cell_index": 0
      }
     ]
    },
    "c1fa81841eee40c2a4a9f2315984c588": {
     "views": [
      {
       "cell_index": 0
      }
     ]
    }
   },
   "version": "1.2.0"
  }
 },
 "nbformat": 4,
 "nbformat_minor": 2
}
