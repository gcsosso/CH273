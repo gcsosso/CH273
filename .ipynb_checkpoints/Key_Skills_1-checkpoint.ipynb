{
 "cells": [
  {
   "cell_type": "code",
   "execution_count": 1,
   "metadata": {
    "hideCode": false,
    "hidePrompt": false
   },
   "outputs": [
    {
     "data": {
      "text/html": [
       "<script>\n",
       "code_show=true; \n",
       "function code_toggle() {\n",
       "    if (code_show){\n",
       "        $('div.cell.code_cell.rendered.selected div.input').hide();\n",
       "    } else {\n",
       "        $('div.cell.code_cell.rendered.selected div.input').show();\n",
       "    }\n",
       "    code_show = !code_show\n",
       "} \n",
       "$( document ).ready(code_toggle);\n",
       "</script>\n",
       "Some hidden code... to show/hide this cell's raw code input, click (or double click if stubborn!) <a href=\"javascript:code_toggle()\">here</a>."
      ],
      "text/plain": [
       "<IPython.core.display.HTML object>"
      ]
     },
     "metadata": {},
     "output_type": "display_data"
    },
    {
     "data": {
      "text/html": [
       "<style>\n",
       "div.warn {    \n",
       "    background-color: #b3b3ff;\n",
       "    border-color: #0000b3;\n",
       "    border-left: 5px solid #0000b3;\n",
       "    padding: 0.5em;\n",
       "    }\n",
       " </style>\n"
      ],
      "text/plain": [
       "<IPython.core.display.HTML object>"
      ]
     },
     "execution_count": 1,
     "metadata": {},
     "output_type": "execute_result"
    }
   ],
   "source": [
    "from IPython.display import HTML\n",
    "from IPython.display import display\n",
    "\n",
    "# Taken from https://stackoverflow.com/questions/31517194/how-to-hide-one-specific-cell-input-or-output-in-ipython-notebook\n",
    "tag = HTML('''<script>\n",
    "code_show=true; \n",
    "function code_toggle() {\n",
    "    if (code_show){\n",
    "        $('div.cell.code_cell.rendered.selected div.input').hide();\n",
    "    } else {\n",
    "        $('div.cell.code_cell.rendered.selected div.input').show();\n",
    "    }\n",
    "    code_show = !code_show\n",
    "} \n",
    "$( document ).ready(code_toggle);\n",
    "</script>\n",
    "Some hidden code... to show/hide this cell's raw code input, click (or double click if stubborn!) <a href=\"javascript:code_toggle()\">here</a>.''')\n",
    "display(tag)\n",
    "\n",
    "############### Write code below ##################\n",
    "from IPython.core.display import HTML\n",
    "def css_styling():\n",
    "    styles = open(\"./STUFF/colors.css\", \"r\").read()\n",
    "    return HTML(styles)\n",
    "css_styling()"
   ]
  },
  {
   "cell_type": "markdown",
   "metadata": {
    "hideCode": false,
    "hidePrompt": false
   },
   "source": [
    "# CH273: Key Skills 1\n",
    "\n",
    "## NVE vs NVT: a Pythonic Tale (Vol I)\n",
    "\n",
    "<img src=\"./STUFF/kb_1.jpg\" width=\"600\">"
   ]
  },
  {
   "cell_type": "markdown",
   "metadata": {
    "hideCode": false,
    "hidePrompt": false
   },
   "source": [
    "<div class=warn>\n",
    "These blue boxes contain instructions for you to follow, or stuff for you to do\n",
    "<h2>How to access this Jupyter notebook</h2>\n",
    "\n",
    "* <b>Step 1</b>: Open a web browser and go to [this page](https://rem123.csc.warwick.ac.uk:8987/module/CH273).<br>\n",
    "* <b>Step 2</b>: Enter your SCRTP username and password and press the \"Start Server\" button.<br>\n",
    "* <b>Step 3</b>: Wait (it could take a few minutes) until the blue blox says \"Jupyter notebook server running!\". At that point, click on the weblink below said message.<br>\n",
    "* <b>Step 4</b>: Select the Jupyter Notebook you want to work on. Remember to make a copy of the orginal notebook (which is read only). To do so, in the toolbar on top of the notebook, select File and then Make a Copy <br>\n",
    "* <b>Step 5</b>: You're all set! <br>\n",
    "* <b>Step 6</b>: <font color=\"red\">When you are done, remember to click the \"Stop Server\" button in the launcher web browser tab.</font> Please do, it's really quite important. <br>\n",
    "<b> Remember: </b> You can access your copy of the Notebook at any time from any device off and on campus by going through the same steps on e.g. your laptop - all the changes you have made will be saved and synced! <br>\n",
    "<div/>"
   ]
  },
  {
   "cell_type": "markdown",
   "metadata": {},
   "source": [
    "### Importing packages \n",
    "One beautiful truth about Python is that there exist countless chunks of code (from rather simple things to entire frameworks for machine learning!) that can be leveraged just be \"importing\" the corresponding \"package\". This is usually done at the very beginning of the Notebook, but let's give it a go now. We are going to import an incredibly popular and extremely useful package known as numpy (short for numerical python):"
   ]
  },
  {
   "cell_type": "code",
   "execution_count": 2,
   "metadata": {},
   "outputs": [],
   "source": [
    "import numpy as np"
   ]
  },
  {
   "cell_type": "markdown",
   "metadata": {},
   "source": [
    "So: the \"import\" keyword tells Python to import the numpy package. The \"as np\" syntax is because we are lazy: anytime we will be calling numpy from now on, we just need to call np as opposed to numpy. Not so essential in here, but some packages have horribly long names, so..."
   ]
  },
  {
   "cell_type": "markdown",
   "metadata": {},
   "source": [
    "### Arrays\n",
    "In many cases, we would love to store the result of a loop such as the one above into a single object - as opposed to a swat of numbers printed out via a loop. This is easily done by using either arrays or lists. Arrays are better when dealing with numbers, so we'll stick to those for the time being. Luckily enough, numpy is here to help: there are arrays and numpy arrays; the latter are better, because you can use numpy to perform a lot of interesting operations with them in no time. The first thing you have to do with a numpy array is to declare/initialise it:"
   ]
  },
  {
   "cell_type": "code",
   "execution_count": 3,
   "metadata": {},
   "outputs": [
    {
     "name": "stdout",
     "output_type": "stream",
     "text": [
      "[0. 0. 0. 0. 0. 0. 0. 0. 0. 0.]\n",
      "[]\n"
     ]
    }
   ],
   "source": [
    "# If you know how many elements should be contained in your numpy array, say, 10...\n",
    "array_1 = np.zeros(10)\n",
    "print(array_1) # always good to print stuff to make sure you are doing the right thing!\n",
    "\n",
    "# If you don't really know, no problem...\n",
    "array_2 = np.array([])\n",
    "print(array_2)"
   ]
  },
  {
   "cell_type": "code",
   "execution_count": 4,
   "metadata": {},
   "outputs": [],
   "source": [
    "# This is a comment - the # tells Python to just ignore whatever follows\n",
    "\n",
    "# First things first, we are going to \"take advantage of powerful computational tools\"\n",
    "# Specifically, we are going to \"import\" the numpy library - an incredibly useful set of of Pythonic tools\n",
    "# that will save us a lot of time when dealing with numbers. off we go...\n",
    "\n",
    "import numpy as np # All set! We can now use numpy, and because we are lazy, each time we use it \n",
    "                   # we are going to call it via \"np\" as opposed to \"numpy\n",
    "import MDAnalysis  # This is a rather powerful package that allows you to analyse molecular dynamics trajectories \n",
    "from MDAnalysis.analysis import hbonds # This MDAnalysis function enables the calculation of hydrogen bonds lifetimes\n",
    "\n",
    "import matplotlib.pyplot as plt # A package to plot our data/results   "
   ]
  },
  {
   "cell_type": "markdown",
   "metadata": {},
   "source": [
    "So: we have stored in an array object called \"array_1\" the result of \"np.zeros(10)\". \"np.zeros\" calls the function \"zsros\", one of the very many available when using numpy - which we call np in here, remember? If you specify a number (10 in the example above) your array will contain that many elements, all of them initialised to zero. If you don't know how many elements you want your array to be, the syntax is slighty different, and uses the \"array\" functtion of numpy to actually transform the empty list [] into a numpy array of unknown length. Ok, now let's populate our array!"
   ]
  },
  {
   "cell_type": "code",
   "execution_count": 5,
   "metadata": {},
   "outputs": [],
   "source": [
    "# 100 ps\n",
    "# 1000 frames\n",
    "# 215 water molecules\n",
    "# 300 K\n",
    "# TIP4P/Ice\n",
    "# 0.4 ps between each frame\n",
    "# NVT"
   ]
  },
  {
   "cell_type": "code",
   "execution_count": 6,
   "metadata": {},
   "outputs": [
    {
     "name": "stdout",
     "output_type": "stream",
     "text": [
      "[ 0.  0. 30.  0.  0.  0.  0.  0.  0.  0.]\n"
     ]
    }
   ],
   "source": [
    "array_1[2] = 30\n",
    "print(array_1)"
   ]
  },
  {
   "cell_type": "code",
   "execution_count": 7,
   "metadata": {},
   "outputs": [
    {
     "name": "stdout",
     "output_type": "stream",
     "text": [
      "<Universe with 645 atoms>\n"
     ]
    }
   ],
   "source": [
    "# As a start, we store in a Python \"object\" (a collection of variables) the initial configuration of the system \n",
    "# (conf.pdb) as well as the molecular dynamics trajectory (traj_whole.xtc). Note that these files can be found\n",
    "# in the ./STUFF directory (we have to tell Python where they are!)\n",
    "traj = MDAnalysis.Universe(\"./STUFF/conf.pdb\",\"./STUFF/md_trajectory.gro\")\n",
    "\n",
    "# Let's see how many atoms we have in our system... \n",
    "print(traj)"
   ]
  },
  {
   "cell_type": "markdown",
   "metadata": {},
   "source": [
    "In here, we have assigned the value 30 to the element n. 2 in our array_1. But then, if you print the array out, the value 30 actually sits in the 3rd element, not the 2nd! How so? Well, in Python (and C++ as well, and a few others...) the indexing of arrays starts from 0, not 1. So, the 1st element of your array is actually indexed as 0, not 1. hence, \"[2]\" correspond to the 3rd element, not the 2nd. Yes, yes, very confusing - you'll get used to it!"
   ]
  },
  {
   "cell_type": "code",
   "execution_count": 8,
   "metadata": {},
   "outputs": [],
   "source": [
    "# # Let's have a look at the system...\n",
    "# # Scroll up/down to zoom out/in\n",
    "\n",
    "# from IPython.display import HTML\n",
    "\n",
    "# def atoms_to_html(atoms):\n",
    "#     'Return the html representation the atoms object as string'\n",
    "\n",
    "#     from tempfile import NamedTemporaryFile\n",
    "\n",
    "#     with NamedTemporaryFile('r+', suffix='.html') as ntf:\n",
    "#         atoms.write(ntf.name, format='html')\n",
    "#         ntf.seek(0)\n",
    "#         html = ntf.read()\n",
    "#     return html\n",
    "\n",
    "# import ase\n",
    "# from ase.io import read\n",
    "# struct = ase.io.read(\"./STUFF/conf.pdb\")\n",
    "# struct_html = atoms_to_html(struct)\n",
    "# HTML(struct_html)"
   ]
  },
  {
   "cell_type": "code",
   "execution_count": 9,
   "metadata": {},
   "outputs": [],
   "source": [
    "data = np.loadtxt('./STUFF/md_data.dat',skiprows=1)"
   ]
  },
  {
   "cell_type": "code",
   "execution_count": 10,
   "metadata": {},
   "outputs": [
    {
     "name": "stdout",
     "output_type": "stream",
     "text": [
      "# Time [ps] | E_Pot [kJ/mol] | T [K] | P [bar\n",
      "\n"
     ]
    }
   ],
   "source": [
    "infile = open('./STUFF/md_data.dat', 'r')\n",
    "firstLine = infile.readline()\n",
    "print(firstLine)"
   ]
  },
  {
   "cell_type": "code",
   "execution_count": 11,
   "metadata": {},
   "outputs": [
    {
     "data": {
      "image/png": "[encoded data removed]",
      "text/plain": [
       "<Figure size 640x640 with 1 Axes>"
      ]
     },
     "metadata": {},
     "output_type": "display_data"
    }
   ],
   "source": [
    "# Print the autocorrelation function\n",
    "plt.figure(figsize=(8,8), dpi= 80, facecolor='w', edgecolor='k') # figsize determine the actual size of the figure\n",
    "\n",
    "# Plot\n",
    "plt.plot(data[:,0], data[:,1],linewidth=2.5)\n",
    "#plt.plot(time, results, 'o', markerfacecolor='orange', markersize=12, markeredgecolor='blue', linewidth=2.5)\n",
    "\n",
    "\n",
    "# Labeling of x and y axes\n",
    "plt.xlabel('Time [ps]',fontsize=16)\n",
    "plt.ylabel('Correlation fuction',fontsize=16)\n",
    "\n",
    "plt.tick_params(axis='both', which='major', labelsize=14)\n",
    "plt.tick_params(axis='both', which='minor', labelsize=14)\n",
    "\n",
    "axes = plt.gca()\n",
    "axes.set_xlim([0,100])\n",
    "#axes.set_ylim([ymin,ymax])\n",
    "\n",
    "# Show the final result\n",
    "plt.show()"
   ]
  },
  {
   "cell_type": "markdown",
   "metadata": {},
   "source": [
    "Computing the ensemble average of E\n",
    "\n",
    "NVE\n",
    "\n",
    "$$\n",
    "E   \\langle E_{NVE} \\rangle = \\frac{1}{\\Omega(NVE)}\\sum_{i=1}^{N}E_i \\\\\n",
    "                            = \\frac{1}{N}\\sum_{i=1}^{N}E_i\n",
    "$$\n",
    "\n",
    "NVT\n",
    "\n",
    "$$\n",
    "E = \\langle E_{NVT} \\rangle = \\frac{1}{Q(NVT)}\\sum_{i=1}^{N}e^{-\\beta E_i}E_i \\\\\n",
    "                            = \\frac{1}{\\sum_{i=1}^{N}e^{-\\beta E_i}}\\sum_{i=1}^{N}e^{-\\beta E_i}E_i\n",
    "$$"
   ]
  },
  {
   "cell_type": "code",
   "execution_count": 12,
   "metadata": {},
   "outputs": [
    {
     "data": {
      "text/plain": [
       "1000"
      ]
     },
     "execution_count": 12,
     "metadata": {},
     "output_type": "execute_result"
    }
   ],
   "source": [
    "len(data)"
   ]
  },
  {
   "cell_type": "code",
   "execution_count": 13,
   "metadata": {},
   "outputs": [
    {
     "name": "stdout",
     "output_type": "stream",
     "text": [
      "-1.0276723800000003 [kJ/mol]\n"
     ]
    }
   ],
   "source": [
    "# NVE\n",
    "N = len(data)\n",
    "E_nve = 0.0\n",
    "for i in range(1, N):\n",
    "    E_nve = E_nve + data[i,1]\n",
    "E_nve = E_nve/N\n",
    "print(E_nve, \"[kJ/mol]\")"
   ]
  },
  {
   "cell_type": "code",
   "execution_count": 14,
   "metadata": {},
   "outputs": [
    {
     "name": "stdout",
     "output_type": "stream",
     "text": [
      "-1.028757817120496 [kJ/mol]\n"
     ]
    }
   ],
   "source": [
    "# NVT\n",
    "k_B = 0.0083144621 # kJ/(mol*K)\n",
    "T = 300 # K\n",
    "beta = 1/(k_B*T) # kJ/mol\n",
    "Q_nvt = 0.0\n",
    "E_nvt = 0.0\n",
    "\n",
    "for i in range(1, N):\n",
    "    Q_nvt = Q_nvt+np.exp(-beta*data[i,1])\n",
    "    E_nvt = E_nvt+(np.exp(-beta*data[i,1]))*data[i,1]\n",
    "E_nvt = E_nvt/Q_nvt \n",
    "print(E_nvt, \"[kJ/mol]\")"
   ]
  },
  {
   "cell_type": "markdown",
   "metadata": {
    "hideCode": false,
    "hidePrompt": false
   },
   "source": [
    "<div class=warn>\n",
    "\n",
    "<h2>Homework</h2>\n",
    "\n",
    "Verify that temperature fluctuations in the canonical ensemble can be quantified as:\n",
    "\n",
    "$$\n",
    "\\sigma^2_T =\\frac{2}{3 D}\\cdot \\langle T \\rangle_{NVT},\n",
    "$$\n",
    "\n",
    "where $\\sigma^2_T$ is the variance of the temperature data, $D$ is the number of degrees of freedom in the system and $\\langle T \\rangle_{NVT}$ is the (canonical) esnemble average of the temperature (also obtained from the data). Everything you need can be Googled!"
   ]
  },
  {
   "cell_type": "code",
   "execution_count": 15,
   "metadata": {},
   "outputs": [
    {
     "name": "stdout",
     "output_type": "stream",
     "text": [
      "298.3043544170178 [K]\n"
     ]
    }
   ],
   "source": [
    "T_nvt = 0.0\n",
    "for i in range(1, N):\n",
    "    T_nvt = T_nvt+(np.exp(-beta*data[i,1]))*data[i,2]\n",
    "T_nvt = T_nvt/Q_nvt \n",
    "print(T_nvt, \"[K]\")"
   ]
  },
  {
   "cell_type": "code",
   "execution_count": 50,
   "metadata": {},
   "outputs": [
    {
     "name": "stdout",
     "output_type": "stream",
     "text": [
      "262.36007068598747\n"
     ]
    }
   ],
   "source": [
    "# variance from the data\n",
    "average_data = 0.0\n",
    "variance_data = 0.0\n",
    "for i in range(0, N):\n",
    "    average_data = average_data + data[i,2]\n",
    "average_data = average_data / N\n",
    "for i in range(0, N):\n",
    "    variance_data = variance_data + (data[i,2] - average_data)**2\n",
    "variance_data = variance_data / (N-1)\n",
    "print(variance_data)"
   ]
  },
  {
   "cell_type": "code",
   "execution_count": 51,
   "metadata": {},
   "outputs": [],
   "source": [
    "\n",
    "variance_numpy = np.var(data[:,2],ddof=1)"
   ]
  },
  {
   "cell_type": "code",
   "execution_count": 52,
   "metadata": {},
   "outputs": [
    {
     "data": {
      "text/plain": [
       "0.0029483467134158916"
      ]
     },
     "execution_count": 52,
     "metadata": {},
     "output_type": "execute_result"
    }
   ],
   "source": [
    "# temperature fluctuations NVT\n",
    "# equilibration!\n",
    "# from the data\n",
    "variance_data/(T_nvt**2)"
   ]
  },
  {
   "cell_type": "code",
   "execution_count": 54,
   "metadata": {},
   "outputs": [
    {
     "data": {
      "text/plain": [
       "0.0031007751937984496"
      ]
     },
     "execution_count": 54,
     "metadata": {},
     "output_type": "execute_result"
    }
   ],
   "source": [
    "nat=215\n",
    "2/(3*nat)"
   ]
  },
  {
   "cell_type": "code",
   "execution_count": null,
   "metadata": {},
   "outputs": [],
   "source": [
    "# wrong if 645 - the concept of degrees of freedom! "
   ]
  }
 ],
 "metadata": {
  "hide_code_all_hidden": false,
  "kernelspec": {
   "display_name": "Python 3",
   "language": "python",
   "name": "python3"
  },
  "language_info": {
   "codemirror_mode": {
    "name": "ipython",
    "version": 3
   },
   "file_extension": ".py",
   "mimetype": "text/x-python",
   "name": "python",
   "nbconvert_exporter": "python",
   "pygments_lexer": "ipython3",
   "version": "3.6.7"
  },
  "widgets": {
   "state": {
    "5adb609cb37c464dbde144ae46077fbd": {
     "views": [
      {
       "cell_index": 0
      }
     ]
    },
    "792df48b8c164530ba39af44f0f1427a": {
     "views": [
      {
       "cell_index": 0
      }
     ]
    },
    "b96cc2fc523e48daaa490b7721ad8648": {
     "views": [
      {
       "cell_index": 0
      }
     ]
    },
    "c1fa81841eee40c2a4a9f2315984c588": {
     "views": [
      {
       "cell_index": 0
      }
     ]
    }
   },
   "version": "1.2.0"
  }
 },
 "nbformat": 4,
 "nbformat_minor": 2
}
