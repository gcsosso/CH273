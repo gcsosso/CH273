{
 "cells": [
  {
   "cell_type": "code",
   "execution_count": 1,
   "metadata": {
    "hideCode": false,
    "hidePrompt": false
   },
   "outputs": [
    {
     "data": {
      "text/html": [
       "<script>\n",
       "code_show=true; \n",
       "function code_toggle() {\n",
       "    if (code_show){\n",
       "        $('div.cell.code_cell.rendered.selected div.input').hide();\n",
       "    } else {\n",
       "        $('div.cell.code_cell.rendered.selected div.input').show();\n",
       "    }\n",
       "    code_show = !code_show\n",
       "} \n",
       "$( document ).ready(code_toggle);\n",
       "</script>\n",
       "Some hidden code... to show/hide this cell's raw code input, click (or double click if stubborn!) <a href=\"javascript:code_toggle()\">here</a>."
      ],
      "text/plain": [
       "<IPython.core.display.HTML object>"
      ]
     },
     "metadata": {},
     "output_type": "display_data"
    },
    {
     "data": {
      "text/html": [
       "<style>\n",
       "div.warn {    \n",
       "    background-color: #b3b3ff;\n",
       "    border-color: #0000b3;\n",
       "    border-left: 5px solid #0000b3;\n",
       "    padding: 0.5em;\n",
       "    }\n",
       " </style>\n"
      ],
      "text/plain": [
       "<IPython.core.display.HTML object>"
      ]
     },
     "execution_count": 1,
     "metadata": {},
     "output_type": "execute_result"
    }
   ],
   "source": [
    "from IPython.display import HTML\n",
    "from IPython.display import display\n",
    "\n",
    "# Taken from https://stackoverflow.com/questions/31517194/how-to-hide-one-specific-cell-input-or-output-in-ipython-notebook\n",
    "tag = HTML('''<script>\n",
    "code_show=true; \n",
    "function code_toggle() {\n",
    "    if (code_show){\n",
    "        $('div.cell.code_cell.rendered.selected div.input').hide();\n",
    "    } else {\n",
    "        $('div.cell.code_cell.rendered.selected div.input').show();\n",
    "    }\n",
    "    code_show = !code_show\n",
    "} \n",
    "$( document ).ready(code_toggle);\n",
    "</script>\n",
    "Some hidden code... to show/hide this cell's raw code input, click (or double click if stubborn!) <a href=\"javascript:code_toggle()\">here</a>.''')\n",
    "display(tag)\n",
    "\n",
    "############### Write code below ##################\n",
    "from IPython.core.display import HTML\n",
    "def css_styling():\n",
    "    styles = open(\"./STUFF/colors.css\", \"r\").read()\n",
    "    return HTML(styles)\n",
    "css_styling()"
   ]
  },
  {
   "cell_type": "markdown",
   "metadata": {
    "hideCode": false,
    "hidePrompt": false
   },
   "source": [
    "<div class=warn>\n",
    "These blue boxes contain instructions for you to follow, or stuff for you to do\n",
    "<h2>How to access this Jupyter notebook</h2>\n",
    "\n",
    "* <b>Step 1</b>: Open a web browser, go to [this page](https://warwick.ac.uk/fac/sci/chemistry/research/maurer/maurergroup/software/iatl_strategic_project/), scroll down, download the Login App (the Windows exacutable if using ITS machines) and double click on the executable (usually ended up into the Download folder) <br>\n",
    "* <b>Step 2</b>: The Notebook Launcher pops up: select the CH273 module and fill in the boxes using your SCRTP username and password <br>\n",
    "* <b>Step 3</b>: Open the Jupyter notebook you are interested in, e.g. KS_2_Class.ipynb <br>\n",
    "* <b>Step 4</b>: Make a copy of the orginal notebook (which is read only). In the toolbar on top of the notebook: File - Make a Copy <br>\n",
    "* <b>Step 5</b>: You're all set! <br><br>\n",
    "<b> Remember: </b> You can access this notebook at home at any time by going through the same steps on e.g. your laptop - all the changes you have made will be saved and synced! At the moment, though, you'll have to tunnel through the campus network via VPN (see [here](https://warwick.ac.uk/services/its/servicessupport/networkservices/vpn/))<br>\n",
    "<div/>"
   ]
  },
  {
   "cell_type": "markdown",
   "metadata": {
    "hideCode": false,
    "hidePrompt": false
   },
   "source": [
    "# CH273: Key Skills 2\n",
    "## The Electronic Partition Function: a Pythonic Tale (Vol. II)\n",
    "\n",
    "In this session, we are going to play around with the electronic partition function. As you know, our ultimate goal is that of being able to compute the equilibrium constant of chemical reactions (in the gas phase) via Statistical Mechanics. To this end, we need to write down the partition functions for all the species involved in said reaction. In turn, the partition function for a given specie can be decomposed (under certain circumstances!) into its translational, vibrational, rotational and... <b> electronic </b> contribution. The latter is the one ingredient we are going to deal with today.\n",
    "\n",
    "### The Electronic Partition Function\n",
    "As per usual, we are going to work within the canonical ensemble. As such, the electronic partition function can be written as:\n",
    "\n",
    "$$\n",
    "\\large{q_{\\text{Ele.}}=\\sum_{i=1}^{N_i} e^{-\\beta \\epsilon_i^{\\text{Ele}}}}\n",
    "$$\n",
    "\n",
    "The energy levels $\\large{\\epsilon_i^{\\text{Ele}}}$ are the electronic states of the atom/molecule. As such, in principle the summation runs up to $\\large{\\infty}$:\n",
    "\n",
    "$$\n",
    "\\large{q_{\\text{Ele.}}=\\sum_{i=1}^{\\infty} e^{-\\beta \\epsilon_i^{\\text{Ele}}}}\n",
    "$$\n",
    "\n",
    "In addition, qauntum mechanics tells us that electronic energy levels may very well be denegerate - i.e. different electronic states may have the same energy. Thus, we need to introduce a degeneracy factor $\\large{g_i^{\\text{Ele.}}}$ for the $i-th$ state:\n",
    "\n",
    "$$\n",
    "\\large{q_{\\text{Ele.}}=\\sum_{i=1}^{\\infty} g_i^{\\text{Ele.}} e^{-\\beta \\epsilon_i^{\\text{Ele}}}}\n",
    "$$"
   ]
  },
  {
   "cell_type": "markdown",
   "metadata": {
    "hideCode": false,
    "hidePrompt": false
   },
   "source": [
    "### Choosing the zero of the energy levels\n",
    "Exactly as we did in the case of the vibrational energy levels, we have to select the zero of our electronic energy levels. Unless specified otherwise, we are going to set this reference as equal to the electronic ground state $\\large{\\epsilon_1^{\\text{Ele}}}$. Thus, the first term of the summation:\n",
    "\n",
    "$$\n",
    "\\large{q_{\\text{Ele.}}=\\sum_{i=1}^{\\infty} g_i^{\\text{Ele.}} e^{-\\beta \\epsilon_i^{\\text{Ele}}}}\n",
    "$$\n",
    "\n",
    "typically reduces to $\\large{g_1^{\\text{Ele.}}}$, as $\\large{g_1^{\\text{Ele.}}\\cdot e^{-\\beta \\epsilon_1^{\\text{Ele}}}= g_1^{\\text{Ele.}}\\cdot e^{0}=g_1^{\\text{Ele.}}}$\n"
   ]
  },
  {
   "cell_type": "markdown",
   "metadata": {
    "hideCode": false,
    "hidePrompt": false
   },
   "source": [
    "### Dealing with the summation...\n",
    "In principle, in order to compute the electronic partition function we need to sum inifinte energy levels. However, we shall see that this is hardly necessary. Take for example the hydrogen atom, which energy levels can be described by the simple relation:\n",
    "\n",
    "$$\n",
    "\\large{\\epsilon_i=\\frac{E_0}{i^2} \\text{ , with } E_0=-13.6 \\text{eV}}\n",
    "$$\n",
    "\n",
    "What is the energy separation between them? Python may help!"
   ]
  },
  {
   "cell_type": "code",
   "execution_count": 49,
   "metadata": {},
   "outputs": [
    {
     "data": {
      "image/png": "[encoded data removed]",
      "text/plain": [
       "<Figure size 640x320 with 1 Axes>"
      ]
     },
     "metadata": {},
     "output_type": "display_data"
    }
   ],
   "source": [
    "import numpy as np\n",
    "# let's calculate the first 20 levels; we need a loop!\n",
    "n_levels = 20\n",
    "energy_zero=-13.6 # eV\n",
    "\n",
    "energy_levels = np.zeros((n_levels,n_levels))\n",
    "for i in range(1, n_levels):\n",
    "    energy_levels[i,0] = i\n",
    "    energy_levels[i,1] = energy_zero/i\n",
    "    \n",
    "# let's have a look...\n",
    "%matplotlib notebook \n",
    "%matplotlib inline \n",
    "import matplotlib.pyplot as plt\n",
    "\n",
    "\n",
    "plt.figure(figsize=(8, 4), dpi= 80, facecolor='w', edgecolor='k') # figsize determine the actual size of the figure\n",
    "\n",
    "plt.plot(energy_levels[:,0], energy_levels[:,1], linewidth=2.5)\n",
    "plt.plot(energy_levels[:,0], energy_levels[:,1], 'o', markerfacecolor='orange', markersize=12, markeredgecolor='blue', \n",
    "         linewidth=2.5)\n",
    "\n",
    "# Labeling of x and y axes\n",
    "plt.xlabel('Energy level n.',fontsize=14)\n",
    "plt.ylabel('Energy [eV]',fontsize=14)\n",
    "\n",
    "axes = plt.gca()\n",
    "axes.set_xlim([1,n_levels+1])\n",
    "#axes.set_ylim([ymin,ymax])\n",
    "\n",
    "plt.tick_params(axis='both', which='major', labelsize=14)\n",
    "plt.tick_params(axis='both', which='minor', labelsize=14)\n",
    "\n",
    "# Show the final result\n",
    "plt.show()"
   ]
  },
  {
   "cell_type": "markdown",
   "metadata": {
    "hideCode": false,
    "hidePrompt": false
   },
   "source": [
    "As you can see, the separation between the energy of the ground state and that of the first excited state is huge ($\\sim$10 eV). As this separation enters a negative exponential term within the expression of the partition function, chances are only the ground state will actual make a non-negligible contribution to the totoal value of $\\large{q_{\\text{Ele.}}}$"
   ]
  },
  {
   "cell_type": "markdown",
   "metadata": {
    "hideCode": false,
    "hidePrompt": false
   },
   "source": [
    "<div class=warn>\n",
    "\n",
    "* Rescale the energy levels plotted above by taking the zero of the energy to be equal to $E_0$<br>\n",
    "* Plot the rescaled energy levels <br>\n",
    "<div/>"
   ]
  },
  {
   "cell_type": "code",
   "execution_count": 50,
   "metadata": {},
   "outputs": [],
   "source": [
    "# let's calculate the actual electronic partition function...\n",
    "\n",
    "kb = 8.6173303e-05 # [ev/K]\n",
    "T = 300 # [K]\n",
    "\n",
    "q_ele_tot = 0.0\n",
    "q_ele = np.zeros((n_levels,2))\n",
    "q_ele_sum = np.zeros((n_levels,2))\n",
    "for i in range(1, n_levels):\n",
    "    q_ele[i,0] = i\n",
    "    q_ele[i,1] = np.exp((energy_levels[i,1]-energy_zero)/(-kb*T)) # note the choice of the zero of energy!\n",
    "    q_ele_tot = q_ele_tot + q_ele[i,1]\n",
    "    q_ele_sum[i,0] = i\n",
    "    q_ele_sum[i,1] = q_ele_tot\n",
    "    "
   ]
  },
  {
   "cell_type": "code",
   "execution_count": 51,
   "metadata": {},
   "outputs": [
    {
     "data": {
      "image/png": "[encoded data removed]",
      "text/plain": [
       "<Figure size 640x320 with 1 Axes>"
      ]
     },
     "metadata": {},
     "output_type": "display_data"
    }
   ],
   "source": [
    "# let's have a look...\n",
    "%matplotlib notebook \n",
    "%matplotlib inline \n",
    "import matplotlib.pyplot as plt\n",
    "\n",
    "\n",
    "plt.figure(figsize=(8, 4), dpi= 80, facecolor='w', edgecolor='k') # figsize determine the actual size of the figure\n",
    "\n",
    "plt.plot(q_ele[:,0], q_ele[:,1], linewidth=2.5)\n",
    "plt.plot(q_ele[:,0], q_ele[:,1], 'o', markerfacecolor='orange', markersize=12, markeredgecolor='blue', \n",
    "         linewidth=2.5)\n",
    "\n",
    "# Labeling of x and y axes\n",
    "plt.xlabel('Energy level n.',fontsize=14)\n",
    "plt.ylabel('Contribution to \\n the partition function',fontsize=14)\n",
    "\n",
    "axes = plt.gca()\n",
    "axes.set_xlim([1,n_levels+1])\n",
    "plt.yscale('log')\n",
    "#axes.set_ylim([ymin,ymax])\n",
    "\n",
    "plt.tick_params(axis='both', which='major', labelsize=14)\n",
    "plt.tick_params(axis='both', which='minor', labelsize=14) \n",
    "\n",
    "# Show the final result\n",
    "plt.show()"
   ]
  },
  {
   "cell_type": "markdown",
   "metadata": {
    "hideCode": false,
    "hidePrompt": false
   },
   "source": [
    "Indeed, it would seem that only the ground state actualy matters - the contribution of the first excited state is some 100 orders of magnitude smaller! In this case - and in most cases! - the electronic partition function is then just equal to the degeneracy factor of the electronic ground state. However..."
   ]
  },
  {
   "cell_type": "markdown",
   "metadata": {
    "hideCode": false,
    "hidePrompt": false
   },
   "source": [
    "### The curious case of the NO molecule...\n",
    "Some molecules are characterised by <i> low-lying electronically excited states </i>, i.e. excited electronic states which are close enough in energy to be accessible even at room temperature. In that case, we cannot simply ignore these excited states, as they will contribute to the electronic partition function.\n",
    "\n",
    "To be specific, the ground state of NO is double degenerate, and separated by $\\Delta E=$0.015 eV only from the first excited state, which is also double degenerate."
   ]
  },
  {
   "cell_type": "markdown",
   "metadata": {
    "hideCode": false,
    "hidePrompt": false
   },
   "source": [
    "<div class=warn>\n",
    "\n",
    "* Write down (in a Markdown cell) the expression for the electronic partition function of NO keeping into account the electronic ground state and the first excited state<br>\n",
    "* Plot the value of the electronic partition function of NO as a function of temperature (best visualised if the temperature is rescaled in units of $k_BT/\\Delta E$)<br>\n",
    "* What values do you expect the electronic partition function of NO will assume at (a.) T=0 K and (b.) in the limit of incredibly high temperatures? Why?<br>\n",
    "* Calculate the actual value of the the electronic partition function of NO at (a.) T=0 K and (b.) 10000 K. Does it make sense?\n",
    "<div/>"
   ]
  },
  {
   "cell_type": "code",
   "execution_count": null,
   "metadata": {},
   "outputs": [],
   "source": []
  }
 ],
 "metadata": {
  "hide_code_all_hidden": false,
  "kernelspec": {
   "display_name": "Python 3",
   "language": "python",
   "name": "python3"
  },
  "language_info": {
   "codemirror_mode": {
    "name": "ipython",
    "version": 3
   },
   "file_extension": ".py",
   "mimetype": "text/x-python",
   "name": "python",
   "nbconvert_exporter": "python",
   "pygments_lexer": "ipython3",
   "version": "3.6.6"
  },
  "widgets": {
   "state": {
    "5adb609cb37c464dbde144ae46077fbd": {
     "views": [
      {
       "cell_index": 0
      }
     ]
    },
    "792df48b8c164530ba39af44f0f1427a": {
     "views": [
      {
       "cell_index": 0
      }
     ]
    },
    "b96cc2fc523e48daaa490b7721ad8648": {
     "views": [
      {
       "cell_index": 0
      }
     ]
    },
    "c1fa81841eee40c2a4a9f2315984c588": {
     "views": [
      {
       "cell_index": 0
      }
     ]
    }
   },
   "version": "1.2.0"
  }
 },
 "nbformat": 4,
 "nbformat_minor": 2
}
