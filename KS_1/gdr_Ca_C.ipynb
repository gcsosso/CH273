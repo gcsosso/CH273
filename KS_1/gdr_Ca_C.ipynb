{
 "cells": [
  {
   "cell_type": "code",
   "execution_count": 1,
   "metadata": {
    "collapsed": true
   },
   "outputs": [],
   "source": [
    "import MDAnalysis\n",
    "from MDAnalysis import Universe\n",
    "from MDAnalysis.tests.datafiles import PDB,XTC\n",
    "import MDAnalysis.analysis\n",
    "import MDAnalysis.analysis.rdf\n",
    "from MDAnalysis.analysis.rdf import InterRDF\n",
    "%matplotlib inline\n",
    "import matplotlib\n",
    "import matplotlib.pyplot as plt\n",
    "import numpy as np"
   ]
  },
  {
   "cell_type": "code",
   "execution_count": 2,
   "metadata": {
    "collapsed": true
   },
   "outputs": [],
   "source": [
    "traj_n = 30"
   ]
  },
  {
   "cell_type": "markdown",
   "metadata": {},
   "source": [
    "## 0.67"
   ]
  },
  {
   "cell_type": "code",
   "execution_count": 3,
   "metadata": {
    "collapsed": true
   },
   "outputs": [],
   "source": [
    "pdbf = \"/storage/chem/mssnkt/CACO3/UNBIASED/CaCO3/0.67/conf.pdb\"\n",
    "traj_all = []\n",
    "for i in range(0,traj_n+1):\n",
    "    traj_all.append('/storage/chem/mssnkt/CACO3/UNBIASED/CaCO3/0.67/trajectory.' + str(i) + '.xtc') \n",
    "universe = Universe(pdbf,traj_all)"
   ]
  },
  {
   "cell_type": "code",
   "execution_count": 4,
   "metadata": {},
   "outputs": [
    {
     "name": "stdout",
     "output_type": "stream",
     "text": [
      "<ChainReader ['trajectory.0.xtc', 'trajectory.1.xtc', 'trajectory.2.xtc', 'trajectory.3.xtc', 'trajectory.4.xtc', 'trajectory.5.xtc', 'trajectory.6.xtc', 'trajectory.7.xtc', 'trajectory.8.xtc', 'trajectory.9.xtc', 'trajectory.10.xtc', 'trajectory.11.xtc', 'trajectory.12.xtc', 'trajectory.13.xtc', 'trajectory.14.xtc', 'trajectory.15.xtc', 'trajectory.16.xtc', 'trajectory.17.xtc', 'trajectory.18.xtc', 'trajectory.19.xtc', 'trajectory.20.xtc', 'trajectory.21.xtc', 'trajectory.22.xtc', 'trajectory.23.xtc', 'trajectory.24.xtc', 'trajectory.25.xtc', 'trajectory.26.xtc', 'trajectory.27.xtc', 'trajectory.28.xtc', 'trajectory.29.xtc', 'trajectory.30.xtc'] with 344056 frames of 12310 atoms>\n"
     ]
    }
   ],
   "source": [
    "print(universe.trajectory)"
   ]
  },
  {
   "cell_type": "code",
   "execution_count": 5,
   "metadata": {
    "collapsed": true
   },
   "outputs": [],
   "source": [
    "group_Ca = universe.select_atoms(\"name Ca\")"
   ]
  },
  {
   "cell_type": "code",
   "execution_count": 6,
   "metadata": {
    "collapsed": true
   },
   "outputs": [],
   "source": [
    "group_Co = universe.select_atoms(\"name C4\")"
   ]
  },
  {
   "cell_type": "code",
   "execution_count": 7,
   "metadata": {
    "collapsed": true,
    "scrolled": false
   },
   "outputs": [],
   "source": [
    "rdf = InterRDF(group_Ca, group_Co, nbins=200, range=(0.0,8.0))\n",
    "rdf.run();"
   ]
  },
  {
   "cell_type": "code",
   "execution_count": 8,
   "metadata": {},
   "outputs": [
    {
     "data": {
      "image/png": "[encoded data removed]",
      "text/plain": [
       "<matplotlib.figure.Figure at 0x7f665f0f7b00>"
      ]
     },
     "metadata": {},
     "output_type": "display_data"
    }
   ],
   "source": [
    "matplotlib.rcParams[\"figure.figsize\"] = (6,6)\n",
    "plt.plot(rdf.bins, rdf.rdf)\n",
    "plt.tick_params(axis='both', which='both', length=10.0, labelleft='true', labelbottom='true', labelsize=20.0)\n",
    "plt.xlabel('r [$\\AA$]', fontsize=26)\n",
    "plt.ylabel('g(r) [Ca-C]', fontsize=26)\n",
    "plt.show()\n",
    "#plt.savefig('foo.png')"
   ]
  },
  {
   "cell_type": "code",
   "execution_count": 9,
   "metadata": {
    "collapsed": true
   },
   "outputs": [],
   "source": [
    "xa = np.array(rdf.bins)\n",
    "y1 = np.array(rdf.rdf)\n",
    "data = np.array([xa, y1])\n",
    "data = data.T\n",
    "datafile_path = \"/storage/chem/mssnkt/CACO3/UNBIASED/CaCO3/gdr_Ca_C.dat\"\n",
    "with open(datafile_path, 'wb') as datafile_id:\n",
    "    np.savetxt(datafile_id, data, fmt=['%10.4f','%10.4f'])"
   ]
  },
  {
   "cell_type": "code",
   "execution_count": null,
   "metadata": {
    "collapsed": true
   },
   "outputs": [],
   "source": []
  }
 ],
 "metadata": {
  "kernelspec": {
   "display_name": "Python 3",
   "language": "python",
   "name": "python3"
  },
  "language_info": {
   "codemirror_mode": {
    "name": "ipython",
    "version": 3
   },
   "file_extension": ".py",
   "mimetype": "text/x-python",
   "name": "python",
   "nbconvert_exporter": "python",
   "pygments_lexer": "ipython3",
   "version": "3.6.1"
  }
 },
 "nbformat": 4,
 "nbformat_minor": 2
}
