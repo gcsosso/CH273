{
 "cells": [
  {
   "cell_type": "markdown",
   "metadata": {},
   "source": [
    "### How to embed your DH-SiS picture in your Jupyter Notebook\n",
    "\n",
    "* Go to this Padlet: [https://warwick.padlet.org/gsosso2/ibyq09fn7pt3jvsr]\n",
    "* Create a new post and upload your picture into it\n",
    "* Right click on the uploaded image and select \"Copy Image Address\"\n",
    "* Use this syntax: ```Image(url=<the Address you just copied>, width=400\"``` to embded your image. Don't forget to import the relevant package as well, *before* you try to embed the image - see example below."
   ]
  },
  {
   "cell_type": "code",
   "execution_count": 15,
   "metadata": {},
   "outputs": [
    {
     "data": {
      "text/html": [
       "<img src=\"https://v1.padlet.pics/1/image.webp?t=c_limit%2Cdpr_2%2Ch_192%2Cw_299&url=https%3A%2F%2Fpadlet-uploads.storage.googleapis.com%2F729457226%2Fb4754ce7d30c64ebd471ef2f9b5b7ed2%2Fions.jpg\" width=\"400\"/>"
      ],
      "text/plain": [
       "<IPython.core.display.Image object>"
      ]
     },
     "execution_count": 15,
     "metadata": {},
     "output_type": "execute_result"
    }
   ],
   "source": [
    "from IPython.display import Image\n",
    "from IPython.core.display import HTML \n",
    "Image(url= \"https://v1.padlet.pics/1/image.webp?t=c_limit%2Cdpr_2%2Ch_192%2Cw_299&url=https%3A%2F%2Fpadlet-uploads.storage.googleapis.com%2F729457226%2Fb4754ce7d30c64ebd471ef2f9b5b7ed2%2Fions.jpg\", width=400)"
   ]
  }
 ],
 "metadata": {
  "kernelspec": {
   "display_name": "Python 3",
   "language": "python",
   "name": "python3"
  },
  "language_info": {
   "codemirror_mode": {
    "name": "ipython",
    "version": 3
   },
   "file_extension": ".py",
   "mimetype": "text/x-python",
   "name": "python",
   "nbconvert_exporter": "python",
   "pygments_lexer": "ipython3",
   "version": "3.7.6"
  }
 },
 "nbformat": 4,
 "nbformat_minor": 4
}
